{
 "cells": [
  {
   "cell_type": "code",
   "execution_count": null,
   "metadata": {
    "collapsed": false
   },
   "outputs": [
    {
     "name": "stdout",
     "output_type": "stream",
     "text": [
      " name :  __main__\n",
      "Map([<Rule '/' (HEAD, OPTIONS, GET) -> index>,\n",
      " <Rule '/static/<filename>' (HEAD, OPTIONS, GET) -> static>])\n"
     ]
    },
    {
     "name": "stderr",
     "output_type": "stream",
     "text": [
      " * Running on http://127.0.0.1:5000/ (Press CTRL+C to quit)\n",
      "127.0.0.1 - - [21/Jun/2017 12:35:20] \"GET / HTTP/1.1\" 200 -\n",
      "127.0.0.1 - - [21/Jun/2017 12:35:20] \"GET /favicon.ico HTTP/1.1\" 404 -\n"
     ]
    }
   ],
   "source": [
    "#%%writefile flaskr/hantest.py\n",
    "\n",
    "from flask import Flask, session, request, redirect, url_for, \\\n",
    "     make_response\n",
    "\n",
    "print(\" name : \",__name__)\n",
    "\n",
    "app = Flask(__name__)\n",
    "\n",
    "# set the secret key.  keep this really secret:\n",
    "app.secret_key = 'A0Zr98j/3yX R~XHH!jmN]LWX/,?RT'\n",
    "@app.route(\"/\")\n",
    "def index():\n",
    "    response = make_response(\"<h1>Hello, World!!!!!!! </h1>\")\n",
    "    return response\n",
    "\n",
    "print(app.url_map)\n",
    "if __name__ == '__main__' :\n"
   ]
  },
  {
   "cell_type": "code",
   "execution_count": 1,
   "metadata": {
    "collapsed": false
   },
   "outputs": [
    {
     "data": {
      "text/plain": [
       "['__displayhook__',\n",
       " '__doc__',\n",
       " '__excepthook__',\n",
       " '__interactivehook__',\n",
       " '__loader__',\n",
       " '__name__',\n",
       " '__package__',\n",
       " '__spec__',\n",
       " '__stderr__',\n",
       " '__stdin__',\n",
       " '__stdout__',\n",
       " '_clear_type_cache',\n",
       " '_current_frames',\n",
       " '_debugmallocstats',\n",
       " '_getframe',\n",
       " '_home',\n",
       " '_mercurial',\n",
       " '_xoptions',\n",
       " 'api_version',\n",
       " 'argv',\n",
       " 'base_exec_prefix',\n",
       " 'base_prefix',\n",
       " 'builtin_module_names',\n",
       " 'byteorder',\n",
       " 'call_tracing',\n",
       " 'callstats',\n",
       " 'copyright',\n",
       " 'displayhook',\n",
       " 'dllhandle',\n",
       " 'dont_write_bytecode',\n",
       " 'exc_info',\n",
       " 'excepthook',\n",
       " 'exec_prefix',\n",
       " 'executable',\n",
       " 'exit',\n",
       " 'flags',\n",
       " 'float_info',\n",
       " 'float_repr_style',\n",
       " 'get_coroutine_wrapper',\n",
       " 'getallocatedblocks',\n",
       " 'getcheckinterval',\n",
       " 'getdefaultencoding',\n",
       " 'getfilesystemencoding',\n",
       " 'getprofile',\n",
       " 'getrecursionlimit',\n",
       " 'getrefcount',\n",
       " 'getsizeof',\n",
       " 'getswitchinterval',\n",
       " 'gettrace',\n",
       " 'getwindowsversion',\n",
       " 'hash_info',\n",
       " 'hexversion',\n",
       " 'implementation',\n",
       " 'int_info',\n",
       " 'intern',\n",
       " 'is_finalizing',\n",
       " 'maxsize',\n",
       " 'maxunicode',\n",
       " 'meta_path',\n",
       " 'modules',\n",
       " 'path',\n",
       " 'path_hooks',\n",
       " 'path_importer_cache',\n",
       " 'platform',\n",
       " 'prefix',\n",
       " 'ps1',\n",
       " 'ps2',\n",
       " 'ps3',\n",
       " 'set_coroutine_wrapper',\n",
       " 'setcheckinterval',\n",
       " 'setprofile',\n",
       " 'setrecursionlimit',\n",
       " 'setswitchinterval',\n",
       " 'settrace',\n",
       " 'stderr',\n",
       " 'stdin',\n",
       " 'stdout',\n",
       " 'thread_info',\n",
       " 'version',\n",
       " 'version_info',\n",
       " 'warnoptions',\n",
       " 'winver']"
      ]
     },
     "execution_count": 1,
     "metadata": {},
     "output_type": "execute_result"
    }
   ],
   "source": [
    "import sys\n",
    "dir(sys)"
   ]
  },
  {
   "cell_type": "code",
   "execution_count": 5,
   "metadata": {
    "collapsed": false
   },
   "outputs": [
    {
     "name": "stdout",
     "output_type": "stream",
     "text": [
      "Writing flaskr/hello_ts.py\n"
     ]
    }
   ],
   "source": [
    "%%writefile flaskr/hello_ts.py\n",
    "from flask import Flask\n",
    "app = Flask( __name__ )\n",
    "\n",
    "@app.route( '/' )\n",
    "def hello( ) :\n",
    "    return 'Hello World ! '\n",
    "\n",
    "if __name__ == '__main__' :\n",
    "    app.run(debug=True)"
   ]
  },
  {
   "cell_type": "code",
   "execution_count": 3,
   "metadata": {
    "collapsed": false
   },
   "outputs": [
    {
     "name": "stdout",
     "output_type": "stream",
     "text": [
      "\n",
      "fromflaskimportrequest\n",
      "@app.route(’/login’,methods=[’GET’,’POST’])\n",
      "deflogin():\n",
      "#GETrequest\n",
      "ifrequest.method==’GET’:\n",
      "returnrendertemplate(’login.html’)\n",
      "#POSTREQUEST\n",
      "else:\n",
      "email=request.form[’email’]\n",
      "password=request.form[’password’]\n",
      "#Checkemail&password\n",
      "#TODO\n",
      "returnrendertemplate(’welcome.html’)\n",
      "\n"
     ]
    }
   ],
   "source": [
    " a = \"\"\"\n",
    "f rom f l a s k im p o r t r e q u e s t\n",
    "@app . r o u t e ( ’ / l o g i n ’ , methods = [ ’GET ’ , ’POST ’ ] )\n",
    "d e f l o g i n ( ) :\n",
    "# GET r e q u e s t\n",
    "i f r e q u e s t . method == ’GET ’ :\n",
    "r e t u r n r e n d e r t e m p l a t e ( ’ l o g i n . h tml ’ )\n",
    "# POST REQUEST\n",
    "e l s e :\n",
    "e m a i l = r e q u e s t . fo rm [ ’ e m a i l ’ ]\n",
    "p a s sw o r d = r e q u e s t . fo rm [ ’ p a s sw o r d ’ ]\n",
    "# Check e m a i l & p a s sw o r d\n",
    "# TODO\n",
    "r e t u r n r e n d e r t e m p l a t e ( ’ welcome . h tml ’ )\n",
    "\"\"\".replace(\" \",\"\")\n",
    "\n",
    "print(a)"
   ]
  },
  {
   "cell_type": "code",
   "execution_count": 7,
   "metadata": {
    "collapsed": false
   },
   "outputs": [
    {
     "name": "stdout",
     "output_type": "stream",
     "text": [
      "Writing flaskr/templates/login_1.html\n"
     ]
    }
   ],
   "source": [
    "%%writefile flaskr/templates/login_1.html\n",
    "<form name=\"login\" method=\"post\" action='{{url_for('login')}}'>\n",
    "   <label>Email</label>\n",
    "       <input type='text' name='email' maxlength=”254”/>\n",
    "   <label>Password</label>\n",
    "        <input type='password' name='password' />\n",
    "   <button type='submit'>Enter</button>\n",
    "</form>"
   ]
  },
  {
   "cell_type": "code",
   "execution_count": 8,
   "metadata": {
    "collapsed": false
   },
   "outputs": [
    {
     "name": "stdout",
     "output_type": "stream",
     "text": [
      "Writing flaskr/login_1.py\n"
     ]
    }
   ],
   "source": [
    "%%writefile flaskr/login_1.py\n",
    "from flask import Flask,request, render_template\n",
    "\n",
    "app = Flask(__name__)\n",
    "@app.route('/login',methods=['GET','POST'])\n",
    "def login():\n",
    "    #GETreques'\n",
    "    if request.method=='GET':\n",
    "        return render_template('login_1.html')\n",
    "    #POSTREQUEST\n",
    "    else:\n",
    "        email=request.form['email']\n",
    "        password=request.form['password']\n",
    "        #Checkemail&password\n",
    "        #TODO\n",
    "        return \" email\" + email + \" password \"+ str(password)\n",
    "\n",
    "if __name__ == '__main__' :\n",
    "    app.run(debug=True)"
   ]
  },
  {
   "cell_type": "code",
   "execution_count": 9,
   "metadata": {
    "collapsed": false
   },
   "outputs": [
    {
     "name": "stdout",
     "output_type": "stream",
     "text": [
      "Writing flaskr/json_1.py\n"
     ]
    }
   ],
   "source": [
    "%%writefile flaskr/json_1.py\n",
    "\n",
    "#!flask/bin/python\n",
    "from flask import Flask,jsonify\n",
    "app=Flask(__name__)\n",
    "tasks= [\n",
    "{\n",
    "'id':1,\n",
    "'title':u'Buygroceries',\n",
    "'description':u'Milk,Cheese,Pizza,Fruit,Tylenol',\n",
    "'done': False\n",
    "},\n",
    "{\n",
    "'id':2,\n",
    "'title':u'LearnPython',\n",
    "'description':u'Needto findagoodPythontutorial ontheweb',\n",
    "'done': False\n",
    "}\n",
    "]\n",
    "@app.route('/json', methods=['GET'])\n",
    "def get_tasks():\n",
    "    return  jsonify( tasks)\n",
    "\n",
    "if __name__ == '__main__' :\n",
    "    app.run(debug=True)"
   ]
  },
  {
   "cell_type": "code",
   "execution_count": 10,
   "metadata": {
    "collapsed": false
   },
   "outputs": [
    {
     "name": "stdout",
     "output_type": "stream",
     "text": [
      "Writing flaskr/json_2.py\n"
     ]
    }
   ],
   "source": [
    "%%writefile flaskr/json_2.py\n",
    "from flask import Flask, abort, jsonify,make_response\n",
    "\n",
    "app=Flask(__name__)\n",
    "\n",
    "\n",
    "@app.route('/abort', methods =['GET'])\n",
    "def get_task():\n",
    "    \n",
    "    return  abort(404)\n",
    "\n",
    "@app.errorhandler(404)\n",
    "def not_found(error):\n",
    "    return make_response(jsonify({'error':'Notfound' }),404)\n",
    "\n",
    "if __name__ == '__main__' :\n",
    "    app.run(debug=True)"
   ]
  },
  {
   "cell_type": "code",
   "execution_count": 11,
   "metadata": {
    "collapsed": false
   },
   "outputs": [
    {
     "name": "stdout",
     "output_type": "stream",
     "text": [
      "Writing flaskr/templates/var.html\n"
     ]
    }
   ],
   "source": [
    "%%writefile flaskr/templates/var.html\n",
    "<!doctype html>\n",
    "<title>Hello from Flask</title>\n",
    "{% if name %}\n",
    "<h1>Hello {{ name }}!</h1>\n",
    "{% else %}\n",
    "<h1>Hello World!</h1>\n",
    "{% endif %}"
   ]
  },
  {
   "cell_type": "code",
   "execution_count": 13,
   "metadata": {
    "collapsed": false
   },
   "outputs": [
    {
     "name": "stdout",
     "output_type": "stream",
     "text": [
      "Writing flaskr/var.py\n"
     ]
    }
   ],
   "source": [
    "%%writefile flaskr/var.py\n",
    "from flask import Flask, render_template\n",
    "\n",
    "app=Flask(__name__)\n",
    "\n",
    "\n",
    "@app.route('/')\n",
    "@app.route('/<name>')\n",
    "def get_task(name=None):\n",
    "    \n",
    "    return  render_template('var.html', name=name)\n",
    "\n",
    "if __name__ == '__main__' :\n",
    "    app.run(debug=True)"
   ]
  },
  {
   "cell_type": "code",
   "execution_count": 14,
   "metadata": {
    "collapsed": false
   },
   "outputs": [
    {
     "name": "stdout",
     "output_type": "stream",
     "text": [
      "Writing flaskr/html_1.py\n"
     ]
    }
   ],
   "source": [
    "%%writefile flaskr/html_1.py\n",
    "\n",
    "from flask import Flask, render_template\n",
    "\n",
    "app = Flask(__name__)\n",
    "\n",
    "@app.route('/')\n",
    "def index():\n",
    "    \n",
    "    return render_template(\"aaa.html\")\n",
    "\n",
    "@app.route('/about')\n",
    "def about():\n",
    "    \n",
    "    return render_template(\"bbb.html\")\n",
    "\n",
    "if __name__ == '__main__':\n",
    "    app.run()\n"
   ]
  },
  {
   "cell_type": "code",
   "execution_count": 15,
   "metadata": {
    "collapsed": false
   },
   "outputs": [
    {
     "name": "stdout",
     "output_type": "stream",
     "text": [
      "Requirement already up-to-date: Werkzeug in c:\\program files\\anaconda3\\lib\\site-packages\n"
     ]
    }
   ],
   "source": [
    "!pip install Werkzeug --upgrade"
   ]
  },
  {
   "cell_type": "code",
   "execution_count": 16,
   "metadata": {
    "collapsed": false
   },
   "outputs": [
    {
     "name": "stdout",
     "output_type": "stream",
     "text": [
      "Writing flaskr/templates/aaa.html\n"
     ]
    }
   ],
   "source": [
    "%%writefile flaskr/templates/aaa.html\n",
    "\n",
    "<h1>Ambient Intelligence 2015</h1>\n",
    "<p>Welcome to the WakeKill project.</p>\n",
    "<p><img src=\"/static/rooster.jpg\"></p>\n",
    "<p>&copy; <a href=\"/about\">SmartRooster</a></p>\n"
   ]
  },
  {
   "cell_type": "code",
   "execution_count": 17,
   "metadata": {
    "collapsed": false
   },
   "outputs": [
    {
     "name": "stdout",
     "output_type": "stream",
     "text": [
      "Writing flaskr/templates/bbb.html\n"
     ]
    }
   ],
   "source": [
    "%%writefile flaskr/templates/bbb.html\n",
    "<h1>SmartRooster - About us</h1>\n",
    "<p>This group if composed by the greatest sleepers in the class.</p>\n",
    "<p>If it wakes us up, you may bet it'll work for you, too.</p>\n",
    "<h1>Try our <a href=\"/\">WakeKill</a> project</h2>"
   ]
  },
  {
   "cell_type": "code",
   "execution_count": 20,
   "metadata": {
    "collapsed": false
   },
   "outputs": [
    {
     "name": "stdout",
     "output_type": "stream",
     "text": [
      "Writing flaskr/flask_app/run.py\n"
     ]
    }
   ],
   "source": [
    "%%writefile flaskr/flask_app/run.py\n",
    "from my_app import app\n",
    "app.run(debug=True)"
   ]
  },
  {
   "cell_type": "code",
   "execution_count": 22,
   "metadata": {
    "collapsed": false
   },
   "outputs": [
    {
     "name": "stdout",
     "output_type": "stream",
     "text": [
      "Writing flaskr/flask_app/my_app/__init__.py\n"
     ]
    }
   ],
   "source": [
    "%%writefile flaskr/flask_app/my_app/__init__.py\n",
    "from flask import Flask\n",
    "app = Flask(__name__)\n",
    "import my_app.hello.views"
   ]
  },
  {
   "cell_type": "code",
   "execution_count": 23,
   "metadata": {
    "collapsed": false
   },
   "outputs": [
    {
     "name": "stdout",
     "output_type": "stream",
     "text": [
      "Writing flaskr/flask_app/my_app/hello/views.py\n"
     ]
    }
   ],
   "source": [
    "%%writefile flaskr/flask_app/my_app/hello/views.py\n",
    "\n",
    "from my_app import app\n",
    "from my_app.hello.models import MESSAGES\n",
    "@app.route('/')\n",
    "@app.route('/hello')\n",
    "def hello_world():\n",
    "    return MESSAGES['default']\n",
    "\n",
    "@app.route('/show/<key>')\n",
    "def get_message(key):\n",
    "    if key == \"all\" :\n",
    "        result= \"\"\n",
    "        for k,v in MESSAGES.items() :\n",
    "            result += \"key: \"+k + 'value :'+v\n",
    "        return result\n",
    "    else :\n",
    "        return MESSAGES.get(key) or \"%s not found!\" % key\n",
    "\n",
    "@app.route('/add/<key>/<message>')\n",
    "def add_or_update_message(key, message):\n",
    "    MESSAGES[key] = message\n",
    "    return \"%s Added/Updated\" % key\n",
    "\n"
   ]
  },
  {
   "cell_type": "code",
   "execution_count": 24,
   "metadata": {
    "collapsed": false
   },
   "outputs": [
    {
     "name": "stdout",
     "output_type": "stream",
     "text": [
      "Writing flaskr/flask_app/my_app/hello/models.py\n"
     ]
    }
   ],
   "source": [
    "%%writefile flaskr/flask_app/my_app/hello/models.py\n",
    "MESSAGES = {\n",
    " 'default': 'Hello to the World of Flask!',\n",
    "}"
   ]
  },
  {
   "cell_type": "code",
   "execution_count": 8,
   "metadata": {
    "collapsed": false
   },
   "outputs": [
    {
     "name": "stdout",
     "output_type": "stream",
     "text": [
      "Writing ../flask_app/my_app/hello/__init__.py\n"
     ]
    }
   ],
   "source": [
    "%%writefile ./flask_app/my_app/hello/__init__.py\n",
    "# No content.\n",
    "# We need this file just to make this folder a python module."
   ]
  },
  {
   "cell_type": "code",
   "execution_count": null,
   "metadata": {
    "collapsed": true
   },
   "outputs": [],
   "source": []
  }
 ],
 "metadata": {
  "anaconda-cloud": {},
  "kernelspec": {
   "display_name": "Python [conda root]",
   "language": "python",
   "name": "conda-root-py"
  },
  "language_info": {
   "codemirror_mode": {
    "name": "ipython",
    "version": 3
   },
   "file_extension": ".py",
   "mimetype": "text/x-python",
   "name": "python",
   "nbconvert_exporter": "python",
   "pygments_lexer": "ipython3",
   "version": "3.5.2"
  }
 },
 "nbformat": 4,
 "nbformat_minor": 1
}
