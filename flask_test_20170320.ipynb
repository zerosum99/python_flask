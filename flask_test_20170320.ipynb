{
 "cells": [
  {
   "cell_type": "code",
   "execution_count": null,
   "metadata": {
    "collapsed": false
   },
   "outputs": [],
   "source": [
    "%%writefile flaskr/hello.py\n",
    "from flask import Flask\n",
    "app = Flask(__name__)\n",
    "\n",
    "@app.route('/')\n",
    "def hello_world():\n",
    "    return 'Hello World!'\n",
    "\n",
    "@app.route('/about')\n",
    "def about():\n",
    "    return 'Hello World about !'\n",
    "\n",
    "@app.route('/str/<name>')\n",
    "def str(name):\n",
    "    return 'Hello World %s !' % name\n",
    "\n",
    "@app.route('/int/<int:num>')\n",
    "def int(num):\n",
    "    return 'Hello World %d !' % num\n",
    "\n",
    "if __name__ == '__main__':\n",
    "    app.run()"
   ]
  },
  {
   "cell_type": "code",
   "execution_count": null,
   "metadata": {
    "collapsed": false
   },
   "outputs": [],
   "source": [
    "!python --version"
   ]
  },
  {
   "cell_type": "code",
   "execution_count": null,
   "metadata": {
    "collapsed": false
   },
   "outputs": [],
   "source": [
    "!pip install flask-script"
   ]
  },
  {
   "cell_type": "code",
   "execution_count": null,
   "metadata": {
    "collapsed": false
   },
   "outputs": [],
   "source": [
    "%%writefile flaskr/templates/index.html\n",
    "<h1>hello world! </h1>"
   ]
  },
  {
   "cell_type": "code",
   "execution_count": null,
   "metadata": {
    "collapsed": false
   },
   "outputs": [],
   "source": [
    "%%writefile flaskr/templates/user.html\n",
    "<h1>hello, {{name}} </h1>"
   ]
  },
  {
   "cell_type": "code",
   "execution_count": null,
   "metadata": {
    "collapsed": false
   },
   "outputs": [],
   "source": [
    "%%writefile flaskr/hello1.py\n",
    "from flask import Flask, render_template\n",
    "app = Flask(__name__)\n",
    "\n",
    "@app.route('/index')\n",
    "def index():\n",
    "    return render_template('index.html')\n",
    "\n",
    "@app.route('/user/<name>')\n",
    "def user(name):\n",
    "    return render_template('user.html', name=name)\n",
    "                           \n",
    "                           \n",
    "if __name__ == '__main__':\n",
    "    app.run()"
   ]
  },
  {
   "cell_type": "code",
   "execution_count": 2,
   "metadata": {
    "collapsed": false
   },
   "outputs": [
    {
     "name": "stdout",
     "output_type": "stream",
     "text": [
      "Overwriting flaskr/hello2.py\n"
     ]
    }
   ],
   "source": [
    "%%writefile flaskr/hello2.py\n",
    "\n",
    "from flask import Flask, redirect\n",
    "app = Flask(__name__)\n",
    "\n",
    "@app.route('/')\n",
    "def hello_world():\n",
    "    return 'Hello World!'\n",
    "\n",
    "@app.route('/index')\n",
    "def index():\n",
    "    return redirect('http://www.google.com')\n",
    "\n",
    "if __name__ == '__main__':\n",
    "    app.run()"
   ]
  },
  {
   "cell_type": "code",
   "execution_count": 11,
   "metadata": {
    "collapsed": false
   },
   "outputs": [
    {
     "name": "stdout",
     "output_type": "stream",
     "text": [
      "/\n",
      "/login\n",
      "/login?next=%2F\n",
      "/user/John%20Doe\n"
     ]
    }
   ],
   "source": [
    "from flask import Flask, url_for\n",
    "app = Flask(__name__)\n",
    "@app.route('/')\n",
    "def index(): pass\n",
    "\n",
    "@app.route('/login')\n",
    "def login(): pass\n",
    "\n",
    "@app.route('/user/<username>')\n",
    "def profile(username): pass\n",
    "\n",
    "with app.test_request_context():\n",
    "    print(url_for('index'))\n",
    "    print(url_for('login'))\n",
    "    print(url_for('login', next='/'))\n",
    "    print(url_for('profile', username='John Doe'))"
   ]
  },
  {
   "cell_type": "code",
   "execution_count": null,
   "metadata": {
    "collapsed": false
   },
   "outputs": [],
   "source": [
    "%%writefile flaskr/hello3.py\n",
    "from flask import Flask, request\n",
    "app = Flask(__name__)\n",
    "\n",
    "@app.route('/login', methods=['GET', 'POST'])\n",
    "def login():\n",
    "    if request.method == 'POST':\n",
    "        return \" Post method \"\n",
    "    else:\n",
    "        return \" Get method  \"\n",
    "        \n",
    "if __name__ == '__main__':\n",
    "    app.run()"
   ]
  },
  {
   "cell_type": "code",
   "execution_count": 1,
   "metadata": {
    "collapsed": false
   },
   "outputs": [
    {
     "name": "stdout",
     "output_type": "stream",
     "text": [
      "Writing flaskr/hello4.py\n"
     ]
    }
   ],
   "source": [
    "%%writefile flaskr/hello4.py\n",
    "from flask import Flask, request\n",
    "app = Flask(__name__)\n",
    "print(app)\n",
    "\n",
    "@app.route('/')\n",
    "def index() :\n",
    "    user_agent = request.headers.get('User-Agent')\n",
    "    return \"<h1> Hello World %s</h1>\" % user_agent\n",
    "\n",
    "@app.route('/user/<name>')\n",
    "def user(name) :\n",
    "    return \"<h1> Hello World %s !</h1>\" % name\n",
    "\n",
    "if __name__ == \"__main__\" :\n",
    "    app.run()"
   ]
  },
  {
   "cell_type": "code",
   "execution_count": 4,
   "metadata": {
    "collapsed": false
   },
   "outputs": [
    {
     "name": "stdout",
     "output_type": "stream",
     "text": [
      "Overwriting flaskr/hello_run.py\n"
     ]
    }
   ],
   "source": [
    "%%writefile flaskr/hello_run.py\n",
    "from hello4 import app as app4\n",
    "from hello2 import app as app2\n",
    "from flask import current_app\n",
    "\n",
    "app_ctx = app4.app_context()\n",
    "app_ctx.push()\n",
    "print(current_app.name)\n",
    "app4.run()\n"
   ]
  },
  {
   "cell_type": "code",
   "execution_count": 13,
   "metadata": {
    "collapsed": false
   },
   "outputs": [
    {
     "name": "stdout",
     "output_type": "stream",
     "text": [
      "Overwriting flaskr/hello_run2.py\n"
     ]
    }
   ],
   "source": [
    "%%writefile flaskr/hello_run2.py\n",
    "\n",
    "from hello2 import app as app2\n",
    "from flask import current_app\n",
    "\n",
    "app_ctx2 = app2.app_context()\n",
    "app_ctx2.push()\n",
    "print(current_app.name)\n",
    "app2.run(host=\"127.0.0.1\", port=\"5001\")"
   ]
  },
  {
   "cell_type": "code",
   "execution_count": 12,
   "metadata": {
    "collapsed": false
   },
   "outputs": [
    {
     "name": "stdout",
     "output_type": "stream",
     "text": [
      "Help on method run in module flask.app:\n",
      "\n",
      "run(host=None, port=None, debug=None, **options) method of flask.app.Flask instance\n",
      "    Runs the application on a local development server.\n",
      "    \n",
      "    Do not use ``run()`` in a production setting. It is not intended to\n",
      "    meet security and performance requirements for a production server.\n",
      "    Instead, see :ref:`deployment` for WSGI server recommendations.\n",
      "    \n",
      "    If the :attr:`debug` flag is set the server will automatically reload\n",
      "    for code changes and show a debugger in case an exception happened.\n",
      "    \n",
      "    If you want to run the application in debug mode, but disable the\n",
      "    code execution on the interactive debugger, you can pass\n",
      "    ``use_evalex=False`` as parameter.  This will keep the debugger's\n",
      "    traceback screen active, but disable code execution.\n",
      "    \n",
      "    It is not recommended to use this function for development with\n",
      "    automatic reloading as this is badly supported.  Instead you should\n",
      "    be using the :command:`flask` command line script's ``run`` support.\n",
      "    \n",
      "    .. admonition:: Keep in Mind\n",
      "    \n",
      "       Flask will suppress any server error with a generic error page\n",
      "       unless it is in debug mode.  As such to enable just the\n",
      "       interactive debugger without the code reloading, you have to\n",
      "       invoke :meth:`run` with ``debug=True`` and ``use_reloader=False``.\n",
      "       Setting ``use_debugger`` to ``True`` without being in debug mode\n",
      "       won't catch any exceptions because there won't be any to\n",
      "       catch.\n",
      "    \n",
      "    .. versionchanged:: 0.10\n",
      "       The default port is now picked from the ``SERVER_NAME`` variable.\n",
      "    \n",
      "    :param host: the hostname to listen on. Set this to ``'0.0.0.0'`` to\n",
      "                 have the server available externally as well. Defaults to\n",
      "                 ``'127.0.0.1'``.\n",
      "    :param port: the port of the webserver. Defaults to ``5000`` or the\n",
      "                 port defined in the ``SERVER_NAME`` config variable if\n",
      "                 present.\n",
      "    :param debug: if given, enable or disable debug mode.\n",
      "                  See :attr:`debug`.\n",
      "    :param options: the options to be forwarded to the underlying\n",
      "                    Werkzeug server.  See\n",
      "                    :func:`werkzeug.serving.run_simple` for more\n",
      "                    information.\n",
      "\n"
     ]
    }
   ],
   "source": [
    "help(app.run)"
   ]
  },
  {
   "cell_type": "code",
   "execution_count": 14,
   "metadata": {
    "collapsed": false
   },
   "outputs": [
    {
     "name": "stdout",
     "output_type": "stream",
     "text": [
      "Writing flaskr/templates/variable.html\n"
     ]
    }
   ],
   "source": [
    "%%writefile flaskr/templates/variable.html\n",
    "<h1>hello, {{ mydict['key'] }} </h1>"
   ]
  },
  {
   "cell_type": "code",
   "execution_count": 15,
   "metadata": {
    "collapsed": false
   },
   "outputs": [
    {
     "name": "stdout",
     "output_type": "stream",
     "text": [
      "Writing flaskr/variable.py\n"
     ]
    }
   ],
   "source": [
    "%%writefile flaskr/variable.py\n",
    "from flask import Flask, render_template\n",
    "app = Flask(__name__)\n",
    "\n",
    "@app.route('/index')\n",
    "def index():\n",
    "    return render_template('index.html')\n",
    "\n",
    "mydict = {'key':\"Dahl Moon\"}\n",
    "@app.route('/user')\n",
    "def user():\n",
    "    return render_template('variable.html', mydict=mydict)\n",
    "                           \n",
    "                           \n",
    "if __name__ == '__main__':\n",
    "    app.run()"
   ]
  },
  {
   "cell_type": "code",
   "execution_count": 19,
   "metadata": {
    "collapsed": false
   },
   "outputs": [
    {
     "name": "stdout",
     "output_type": "stream",
     "text": [
      "Overwriting flaskr/templates/filter1.html\n"
     ]
    }
   ],
   "source": [
    "%%writefile flaskr/templates/filter1.html\n",
    "<h1>Hello, {{ name | capitalize}} </h1>\n",
    "<h1>Hello, {{ name | lower}} </h1>\n",
    "<h1>Hello, {{ name | upper}} </h1>\n",
    "<h1>Hello, {{ name | title}} </h1>\n",
    "<h1>Hello, {{ name | safe}} </h1>\n",
    "<h1>Hello, {{ name | striptags}} </h1>"
   ]
  },
  {
   "cell_type": "code",
   "execution_count": 18,
   "metadata": {
    "collapsed": false
   },
   "outputs": [
    {
     "name": "stdout",
     "output_type": "stream",
     "text": [
      "Overwriting flaskr/filter1.py\n"
     ]
    }
   ],
   "source": [
    "%%writefile flaskr/filter1.py\n",
    "from flask import Flask, render_template\n",
    "app = Flask(__name__)\n",
    "\n",
    "@app.route('/index')\n",
    "def index():\n",
    "    return render_template('index.html')\n",
    "\n",
    "\n",
    "@app.route('/user/<name>')\n",
    "def user(name):\n",
    "    return render_template('filter1.html', name=name)\n",
    "                           \n",
    "                           \n",
    "if __name__ == '__main__':\n",
    "    app.run()"
   ]
  },
  {
   "cell_type": "code",
   "execution_count": 23,
   "metadata": {
    "collapsed": false
   },
   "outputs": [
    {
     "name": "stdout",
     "output_type": "stream",
     "text": [
      "Overwriting flaskr/templates/control1.html\n"
     ]
    }
   ],
   "source": [
    "%%writefile flaskr/templates/control1.html\n",
    "{% if name %}\n",
    "    <h1>Hello, {{ name | capitalize}} </h1>\n",
    "{% else %}\n",
    "    <h1>Hello, no name </h1>\n",
    "{% endif %}"
   ]
  },
  {
   "cell_type": "code",
   "execution_count": 24,
   "metadata": {
    "collapsed": false
   },
   "outputs": [
    {
     "name": "stdout",
     "output_type": "stream",
     "text": [
      "Overwriting flaskr/control1.py\n"
     ]
    }
   ],
   "source": [
    "%%writefile flaskr/control1.py\n",
    "from flask import Flask, render_template\n",
    "app = Flask(__name__)\n",
    "\n",
    "@app.route('/index')\n",
    "def index():\n",
    "    return render_template('index.html')\n",
    "\n",
    "\n",
    "@app.route('/user/<name>')\n",
    "def user(name):\n",
    "    name =\"\"\n",
    "    return render_template('control1.html', name=name)\n",
    "                           \n",
    "                           \n",
    "if __name__ == '__main__':\n",
    "    app.run()"
   ]
  },
  {
   "cell_type": "code",
   "execution_count": 26,
   "metadata": {
    "collapsed": false
   },
   "outputs": [
    {
     "name": "stdout",
     "output_type": "stream",
     "text": [
      "Overwriting flaskr/templates/forloop1.html\n"
     ]
    }
   ],
   "source": [
    "%%writefile flaskr/templates/forloop1.html\n",
    "<h1> {{name | title}} </h1>\n",
    "<ul>\n",
    "    {% for comment in comments %}\n",
    "        <li>Hello, {{comment}} </li>\n",
    "   \n",
    "    {% endfor %}\n",
    "</ul>"
   ]
  },
  {
   "cell_type": "code",
   "execution_count": 27,
   "metadata": {
    "collapsed": false
   },
   "outputs": [
    {
     "name": "stdout",
     "output_type": "stream",
     "text": [
      "Writing flaskr/forloop1.py\n"
     ]
    }
   ],
   "source": [
    "%%writefile flaskr/forloop1.py\n",
    "from flask import Flask, render_template\n",
    "app = Flask(__name__)\n",
    "\n",
    "@app.route('/index')\n",
    "def index():\n",
    "    return render_template('index.html')\n",
    "\n",
    "\n",
    "@app.route('/user/<name>')\n",
    "def user(name):\n",
    "    comments = ['apple','orange']\n",
    "    return render_template('forloop1.html', name=name,comments=comments)\n",
    "                           \n",
    "                           \n",
    "if __name__ == '__main__':\n",
    "    app.run()"
   ]
  },
  {
   "cell_type": "code",
   "execution_count": 30,
   "metadata": {
    "collapsed": false
   },
   "outputs": [
    {
     "name": "stdout",
     "output_type": "stream",
     "text": [
      "Writing flaskr/templates/macro.html\n"
     ]
    }
   ],
   "source": [
    "%%writefile flaskr/templates/macro.html\n",
    "{% macro add(x,y) %}\n",
    "  <h1> {{ x+y }} </h1>\n",
    "{% endmacro %}\n",
    "\n",
    "<div>\n",
    "   {{ add(x,y)}}\n",
    "</div>"
   ]
  },
  {
   "cell_type": "code",
   "execution_count": 29,
   "metadata": {
    "collapsed": false
   },
   "outputs": [
    {
     "name": "stdout",
     "output_type": "stream",
     "text": [
      "Writing flaskr/macro1.py\n"
     ]
    }
   ],
   "source": [
    "%%writefile flaskr/macro1.py\n",
    "from flask import Flask, render_template\n",
    "app = Flask(__name__)\n",
    "\n",
    "@app.route('/index')\n",
    "def index():\n",
    "    return render_template('macro.html', x=10,y=10)\n",
    "                                                \n",
    "if __name__ == '__main__':\n",
    "    app.run()"
   ]
  },
  {
   "cell_type": "code",
   "execution_count": 31,
   "metadata": {
    "collapsed": false
   },
   "outputs": [
    {
     "name": "stdout",
     "output_type": "stream",
     "text": [
      "Writing flaskr/templates/macro_add.html\n"
     ]
    }
   ],
   "source": [
    "%%writefile flaskr/templates/macro_add.html\n",
    "{% macro add(x,y) %}\n",
    "  <h1> {{ x+y }} </h1>\n",
    "{% endmacro %}\n"
   ]
  },
  {
   "cell_type": "code",
   "execution_count": 34,
   "metadata": {
    "collapsed": false
   },
   "outputs": [
    {
     "name": "stdout",
     "output_type": "stream",
     "text": [
      "Overwriting flaskr/templates/macro1.html\n"
     ]
    }
   ],
   "source": [
    "%%writefile flaskr/templates/macro1.html\n",
    "{% import 'macro_add.html' as add %}\n",
    "<div>\n",
    "   {{ add.add(x,y)}}\n",
    "</div>"
   ]
  },
  {
   "cell_type": "code",
   "execution_count": 33,
   "metadata": {
    "collapsed": false
   },
   "outputs": [
    {
     "name": "stdout",
     "output_type": "stream",
     "text": [
      "Writing flaskr/macro2.py\n"
     ]
    }
   ],
   "source": [
    "%%writefile flaskr/macro2.py\n",
    "from flask import Flask, render_template\n",
    "app = Flask(__name__)\n",
    "\n",
    "@app.route('/index')\n",
    "def index():\n",
    "    return render_template('macro1.html', x=10,y=10)\n",
    "                                                \n",
    "if __name__ == '__main__':\n",
    "    app.run()"
   ]
  },
  {
   "cell_type": "code",
   "execution_count": 37,
   "metadata": {
    "collapsed": false
   },
   "outputs": [
    {
     "name": "stdout",
     "output_type": "stream",
     "text": [
      "Writing flaskr/templates/include.html\n"
     ]
    }
   ],
   "source": [
    "%%writefile flaskr/templates/include.html\n",
    "<ul class=\"nav navbar-nav navbar-right\">\n",
    "   <li>\n",
    "       {% if status == 0 %}\n",
    "           <a href=\"/login\">Login</a>\n",
    "       {% else %}\n",
    "            <a href=\"/login\">Logout</a>\n",
    "       {%endif%}\n",
    "   </li>\n",
    "</ul>"
   ]
  },
  {
   "cell_type": "code",
   "execution_count": 46,
   "metadata": {
    "collapsed": false
   },
   "outputs": [
    {
     "name": "stdout",
     "output_type": "stream",
     "text": [
      "Overwriting flaskr/templates/include_body.html\n"
     ]
    }
   ],
   "source": [
    "%%writefile flaskr/templates/include_body.html\n",
    "<body>\n",
    "    <h1> variable {{status}}</h1>\n",
    "    {% for status in range(2) %}\n",
    "        {% include 'include.html' %}\n",
    "    {% endfor %}\n",
    "    <div class=\"container\">\n",
    "          <h1> include test {{status}}</h1>\n",
    "    </div>\n",
    "</body>"
   ]
  },
  {
   "cell_type": "code",
   "execution_count": 42,
   "metadata": {
    "collapsed": false
   },
   "outputs": [
    {
     "name": "stdout",
     "output_type": "stream",
     "text": [
      "Overwriting flaskr/include.py\n"
     ]
    }
   ],
   "source": [
    "%%writefile flaskr/include.py\n",
    "from flask import Flask, render_template\n",
    "app = Flask(__name__)\n",
    "\n",
    "@app.route('/index')\n",
    "def index():\n",
    "    status = 1\n",
    "    return render_template('include_body.html', status=status)\n",
    "                                                \n",
    "if __name__ == '__main__':\n",
    "    app.run()"
   ]
  },
  {
   "cell_type": "code",
   "execution_count": 50,
   "metadata": {
    "collapsed": false
   },
   "outputs": [
    {
     "name": "stdout",
     "output_type": "stream",
     "text": [
      "Overwriting flaskr/templates/layout.html\n"
     ]
    }
   ],
   "source": [
    "%%writefile flaskr/templates/layout.html\n",
    "<!doctype html>\n",
    "<head>\n",
    "   {% block head %}\n",
    "    <title>\n",
    "        {% block title %}\n",
    "        {% endblock %}\n",
    "        My Main Title\n",
    "    </title>\n",
    "   {% endblock %}\n",
    "</head>\n",
    "<body>\n",
    "    {% block body %}\n",
    "    {% endblock %}\n",
    "</body>\n",
    "</html>"
   ]
  },
  {
   "cell_type": "code",
   "execution_count": 51,
   "metadata": {
    "collapsed": false
   },
   "outputs": [
    {
     "name": "stdout",
     "output_type": "stream",
     "text": [
      "Overwriting flaskr/templates/show.html\n"
     ]
    }
   ],
   "source": [
    "%%writefile flaskr/templates/show.html\n",
    "{% extends \"layout.html\" %}\n",
    "{% block title %} Index {% endblock %}\n",
    "{% block head %}  \n",
    "    <style></style>\n",
    "{% endblock %}\n",
    "{% block body %}  \n",
    "    <h1> Hello World !!!</h1>\n",
    "{% endblock %}"
   ]
  },
  {
   "cell_type": "code",
   "execution_count": 52,
   "metadata": {
    "collapsed": false
   },
   "outputs": [
    {
     "name": "stdout",
     "output_type": "stream",
     "text": [
      "Overwriting flaskr/show.py\n"
     ]
    }
   ],
   "source": [
    "%%writefile flaskr/show.py\n",
    "from flask import Flask, render_template\n",
    "app = Flask(__name__)\n",
    "\n",
    "@app.route('/index')\n",
    "def index():\n",
    "    return render_template('show.html')\n",
    "                                                \n",
    "if __name__ == '__main__':\n",
    "    app.run()"
   ]
  },
  {
   "cell_type": "code",
   "execution_count": 53,
   "metadata": {
    "collapsed": false
   },
   "outputs": [
    {
     "name": "stdout",
     "output_type": "stream",
     "text": [
      "Writing flaskr/templates/homepage.html\n"
     ]
    }
   ],
   "source": [
    "%%writefile flaskr/templates/homepage.html\n",
    "<!DOCTYPE html>\n",
    "<html lang=\"en\">\n",
    "<head>\n",
    "  <meta charset=\"UTF-8\">\n",
    "  <title>Hello World</title>\n",
    "  <style>\n",
    "    body{\n",
    "      width: 90%;\n",
    "      margin: auto;\n",
    "      font-family: \"Helvetica Neue\";\n",
    "    }\n",
    "  </style>\n",
    "</head>\n",
    "<body>\n",
    "   <h1>Hello world!</h1>\n",
    "   <p>Today is <strong>{{ the_date }}</strong> and it is a great day!</p>\n",
    "</body>\n",
    "</html>"
   ]
  },
  {
   "cell_type": "code",
   "execution_count": 62,
   "metadata": {
    "collapsed": false
   },
   "outputs": [
    {
     "name": "stdout",
     "output_type": "stream",
     "text": [
      "Overwriting flaskr/homepage.py\n"
     ]
    }
   ],
   "source": [
    "%%writefile flaskr/homepage.py\n",
    "import datetime\n",
    "from flask import Flask\n",
    "from flask import render_template\n",
    "app = Flask(__name__)\n",
    "\n",
    "@app.route(\"/\")\n",
    "def homepage():\n",
    "    htmltxt = render_template('homepage.html', the_date = datetime.date.today())\n",
    "    return htmltxt\n",
    "\n",
    "if __name__ == '__main__':\n",
    "    app.run(use_reloader=True, debug=True)"
   ]
  },
  {
   "cell_type": "code",
   "execution_count": 61,
   "metadata": {
    "collapsed": false
   },
   "outputs": [
    {
     "data": {
      "text/plain": [
       "['__add__',\n",
       " '__class__',\n",
       " '__delattr__',\n",
       " '__dir__',\n",
       " '__doc__',\n",
       " '__eq__',\n",
       " '__format__',\n",
       " '__ge__',\n",
       " '__getattribute__',\n",
       " '__gt__',\n",
       " '__hash__',\n",
       " '__init__',\n",
       " '__le__',\n",
       " '__lt__',\n",
       " '__ne__',\n",
       " '__new__',\n",
       " '__radd__',\n",
       " '__reduce__',\n",
       " '__reduce_ex__',\n",
       " '__repr__',\n",
       " '__rsub__',\n",
       " '__setattr__',\n",
       " '__sizeof__',\n",
       " '__str__',\n",
       " '__sub__',\n",
       " '__subclasshook__',\n",
       " 'ctime',\n",
       " 'day',\n",
       " 'fromordinal',\n",
       " 'fromtimestamp',\n",
       " 'isocalendar',\n",
       " 'isoformat',\n",
       " 'isoweekday',\n",
       " 'max',\n",
       " 'min',\n",
       " 'month',\n",
       " 'replace',\n",
       " 'resolution',\n",
       " 'strftime',\n",
       " 'timetuple',\n",
       " 'today',\n",
       " 'toordinal',\n",
       " 'weekday',\n",
       " 'year']"
      ]
     },
     "execution_count": 61,
     "metadata": {},
     "output_type": "execute_result"
    }
   ],
   "source": [
    "import datetime\n",
    "dir(datetime.date)"
   ]
  },
  {
   "cell_type": "code",
   "execution_count": 63,
   "metadata": {
    "collapsed": false
   },
   "outputs": [
    {
     "name": "stdout",
     "output_type": "stream",
     "text": [
      "Writing flaskr/templates/homepage1.html\n"
     ]
    }
   ],
   "source": [
    "%%writefile flaskr/templates/homepage1.html\n",
    "<!DOCTYPE html>\n",
    "<html lang=\"en\">\n",
    "<head>\n",
    "  <meta charset=\"UTF-8\">\n",
    "  <title>Hello World</title>\n",
    "  <style>\n",
    "    body{\n",
    "      width: 90%;\n",
    "      margin: auto;\n",
    "      font-family: \"Helvetica Neue\";\n",
    "    }\n",
    "  </style>\n",
    "</head>\n",
    "<body>\n",
    "   <h1>Hello world!</h1>\n",
    "   <p>Today is <strong>{{ the_date }}</strong> and it is a great day!</p>\n",
    "\n",
    "    <h2>Let's count!</h2>\n",
    "    \n",
    "    {% for n in numbers %}\n",
    "        <div>{{ n }} bottles of soy.</div>\n",
    "    {% endfor %}\n",
    "\n",
    "    <p>Done counting!</p>\n",
    "</body>\n",
    "</html>"
   ]
  },
  {
   "cell_type": "code",
   "execution_count": 64,
   "metadata": {
    "collapsed": false
   },
   "outputs": [
    {
     "name": "stdout",
     "output_type": "stream",
     "text": [
      "Writing flaskr/homepage1.py\n"
     ]
    }
   ],
   "source": [
    "%%writefile flaskr/homepage1.py\n",
    "import datetime\n",
    "from flask import Flask\n",
    "from flask import render_template\n",
    "app = Flask(__name__)\n",
    "\n",
    "@app.route(\"/\")\n",
    "def homepage():\n",
    "    htmltxt = render_template('homepage1.html', the_date = datetime.date.today())\n",
    "    return htmltxt\n",
    "\n",
    "if __name__ == '__main__':\n",
    "    app.run(use_reloader=True, debug=True)"
   ]
  },
  {
   "cell_type": "code",
   "execution_count": 65,
   "metadata": {
    "collapsed": false
   },
   "outputs": [
    {
     "name": "stdout",
     "output_type": "stream",
     "text": [
      "Writing flaskr/hello5.py\n"
     ]
    }
   ],
   "source": [
    "%%writefile flaskr/hello5.py\n",
    "import datetime\n",
    "from flask import Flask\n",
    "from flask import render_template\n",
    "app = Flask(__name__)\n",
    "\n",
    "@app.route('/')\n",
    "@app.route('/hello')\n",
    "def index():\n",
    "   \"\"\"Route Handler (View Function) for '/' and '/hello\"\"\"\n",
    "   return 'Hello, world!'\n",
    "\n",
    "if __name__ == '__main__':\n",
    "    app.run(use_reloader=True, debug=True)"
   ]
  },
  {
   "cell_type": "code",
   "execution_count": 67,
   "metadata": {
    "collapsed": false
   },
   "outputs": [
    {
     "name": "stdout",
     "output_type": "stream",
     "text": [
      "Hello, peter\n"
     ]
    }
   ],
   "source": [
    "from jinja2 import Template\n",
    "\n",
    "# Create a Template containing Jinja2 variable\n",
    "t = Template('Hello, {{ name }}')\n",
    "\n",
    "# Render the template with value for variable\n",
    "print(t.render(name='peter'))"
   ]
  },
  {
   "cell_type": "code",
   "execution_count": 68,
   "metadata": {
    "collapsed": false
   },
   "outputs": [
    {
     "name": "stdout",
     "output_type": "stream",
     "text": [
      "Hello, Peter\n",
      "Hello, Peter And Paul\n"
     ]
    }
   ],
   "source": [
    "from jinja2 import Template\n",
    "t1 = Template('Hello, {{ name|striptags }}')\n",
    "print(t1.render(name='<em>Peter</em>'))\n",
    "\n",
    "t2 = Template('Hello, {{ name|trim|title }}')\n",
    "print(t2.render(name='  peter and paul  '))"
   ]
  },
  {
   "cell_type": "code",
   "execution_count": null,
   "metadata": {
    "collapsed": true
   },
   "outputs": [],
   "source": [
    "{% set username = 'Peter' %}\n",
    "{% set navigation = [('index.html', 'Index'), ('about.html', 'About')] %}\n",
    "{% set key, value = myfun() %}"
   ]
  },
  {
   "cell_type": "code",
   "execution_count": 72,
   "metadata": {
    "collapsed": false
   },
   "outputs": [
    {
     "name": "stdout",
     "output_type": "stream",
     "text": [
      "Overwriting flaskr/templates/homepage2.html\n"
     ]
    }
   ],
   "source": [
    "%%writefile flaskr/templates/homepage2.html\n",
    "<!DOCTYPE html>\n",
    "<html lang=\"en\">\n",
    "<head>\n",
    " \n",
    "</head>\n",
    "<body>\n",
    "   <h1>Hello world!</h1>\n",
    "    {% set the_date = \"2017-02-15\" %}\n",
    "    {% set numbers = [0,1,2,3] %}\n",
    "   <p>Today is <strong>{{ the_date }}</strong> and it is a great day!</p>\n",
    "\n",
    "    <h2>Let's count!</h2>\n",
    "    \n",
    "    {% for n in numbers %}\n",
    "        <div>{{ n }} bottles of soy.</div>\n",
    "    {% endfor %}\n",
    "\n",
    "    <p>Done counting!</p>\n",
    "</body>\n",
    "</html>"
   ]
  },
  {
   "cell_type": "code",
   "execution_count": 71,
   "metadata": {
    "collapsed": false
   },
   "outputs": [
    {
     "name": "stdout",
     "output_type": "stream",
     "text": [
      "Overwriting flaskr/homepage2.py\n"
     ]
    }
   ],
   "source": [
    "%%writefile flaskr/homepage2.py\n",
    "import datetime\n",
    "from flask import Flask\n",
    "from flask import render_template\n",
    "app = Flask(__name__)\n",
    "\n",
    "@app.route(\"/\")\n",
    "def homepage():\n",
    "    htmltxt = render_template('homepage2.html')\n",
    "    return htmltxt\n",
    "\n",
    "if __name__ == '__main__':\n",
    "    app.run(use_reloader=True, debug=True)"
   ]
  },
  {
   "cell_type": "code",
   "execution_count": 73,
   "metadata": {
    "collapsed": false
   },
   "outputs": [
    {
     "name": "stdout",
     "output_type": "stream",
     "text": [
      "C:\\Users\\06411\\Documents\n"
     ]
    }
   ],
   "source": [
    "!cd"
   ]
  },
  {
   "cell_type": "code",
   "execution_count": null,
   "metadata": {
    "collapsed": true
   },
   "outputs": [],
   "source": []
  }
 ],
 "metadata": {
  "anaconda-cloud": {},
  "kernelspec": {
   "display_name": "Python [conda root]",
   "language": "python",
   "name": "conda-root-py"
  },
  "language_info": {
   "codemirror_mode": {
    "name": "ipython",
    "version": 3
   },
   "file_extension": ".py",
   "mimetype": "text/x-python",
   "name": "python",
   "nbconvert_exporter": "python",
   "pygments_lexer": "ipython3",
   "version": "3.5.2"
  }
 },
 "nbformat": 4,
 "nbformat_minor": 1
}
