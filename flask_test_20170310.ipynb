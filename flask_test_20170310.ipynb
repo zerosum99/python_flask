{
 "cells": [
  {
   "cell_type": "code",
   "execution_count": 23,
   "metadata": {
    "collapsed": false
   },
   "outputs": [
    {
     "name": "stdout",
     "output_type": "stream",
     "text": [
      "120\n",
      "120\n"
     ]
    }
   ],
   "source": [
    "#팩토리얼\n",
    "\n",
    "def fact(x) :\n",
    "    if x == 1 :\n",
    "        return 1\n",
    "    if x == 0 :\n",
    "        return 1\n",
    "    \n",
    "    return x * fact(x-1)\n",
    "\n",
    "print(fact(5))\n",
    "print(5*4*3*2*1)"
   ]
  },
  {
   "cell_type": "code",
   "execution_count": 25,
   "metadata": {
    "collapsed": false
   },
   "outputs": [
    {
     "name": "stdout",
     "output_type": "stream",
     "text": [
      "60.0\n",
      "120\n",
      "2\n"
     ]
    }
   ],
   "source": [
    "def fact(x) :\n",
    "    if x == 1 :\n",
    "        return 1\n",
    "    if x == 0 :\n",
    "        return 1\n",
    "    \n",
    "    return x * fact(x-1)\n",
    "\n",
    "def permute(x,r):\n",
    "    if x < r :\n",
    "        return None\n",
    "    a = fact(x)\n",
    "    b = fact(x-r)\n",
    "    return a/b\n",
    "\n",
    "print(permute(5,3))\n",
    "print(fact(5))\n",
    "print(fact(5-3))\n",
    "   "
   ]
  },
  {
   "cell_type": "code",
   "execution_count": 27,
   "metadata": {
    "collapsed": false
   },
   "outputs": [
    {
     "name": "stdout",
     "output_type": "stream",
     "text": [
      "('빨', '주')\n",
      "('빨', '노')\n",
      "('빨', '초')\n",
      "('주', '빨')\n",
      "('주', '노')\n",
      "('주', '초')\n",
      "('노', '빨')\n",
      "('노', '주')\n",
      "('노', '초')\n",
      "('초', '빨')\n",
      "('초', '주')\n",
      "('초', '노')\n"
     ]
    }
   ],
   "source": [
    "from itertools import permutations\n",
    "per = permutations(['빨','주','노','초'],2)\n",
    "\n",
    "for i in per :\n",
    "    print(i)"
   ]
  },
  {
   "cell_type": "code",
   "execution_count": 29,
   "metadata": {
    "collapsed": false
   },
   "outputs": [
    {
     "name": "stdout",
     "output_type": "stream",
     "text": [
      "Help on class permutations in module itertools:\n",
      "\n",
      "class permutations(builtins.object)\n",
      " |  permutations(iterable[, r]) --> permutations object\n",
      " |  \n",
      " |  Return successive r-length permutations of elements in the iterable.\n",
      " |  \n",
      " |  permutations(range(3), 2) --> (0,1), (0,2), (1,0), (1,2), (2,0), (2,1)\n",
      " |  \n",
      " |  Methods defined here:\n",
      " |  \n",
      " |  __getattribute__(self, name, /)\n",
      " |      Return getattr(self, name).\n",
      " |  \n",
      " |  __iter__(self, /)\n",
      " |      Implement iter(self).\n",
      " |  \n",
      " |  __new__(*args, **kwargs) from builtins.type\n",
      " |      Create and return a new object.  See help(type) for accurate signature.\n",
      " |  \n",
      " |  __next__(self, /)\n",
      " |      Implement next(self).\n",
      " |  \n",
      " |  __reduce__(...)\n",
      " |      Return state information for pickling.\n",
      " |  \n",
      " |  __setstate__(...)\n",
      " |      Set state information for unpickling.\n",
      " |  \n",
      " |  __sizeof__(...)\n",
      " |      Returns size in memory, in bytes.\n",
      "\n"
     ]
    }
   ],
   "source": [
    "help(permutations)"
   ]
  },
  {
   "cell_type": "code",
   "execution_count": 39,
   "metadata": {
    "collapsed": false
   },
   "outputs": [
    {
     "name": "stdout",
     "output_type": "stream",
     "text": [
      "('빨', '주')\n",
      "('빨', '노')\n",
      "('빨', '초')\n",
      "('주', '노')\n",
      "('주', '초')\n",
      "('노', '초')\n"
     ]
    }
   ],
   "source": [
    "from itertools import combinations\n",
    "per = combinations(['빨','주','노','초'], 2)\n",
    "\n",
    "for i in per :\n",
    "    print(i)"
   ]
  },
  {
   "cell_type": "code",
   "execution_count": 41,
   "metadata": {
    "collapsed": false
   },
   "outputs": [
    {
     "name": "stdout",
     "output_type": "stream",
     "text": [
      "('1', '1')\n",
      "('1', '2')\n",
      "('1', '3')\n",
      "('1', '4')\n",
      "('2', '2')\n",
      "('2', '3')\n",
      "('2', '4')\n",
      "('3', '3')\n",
      "('3', '4')\n",
      "('4', '4')\n"
     ]
    }
   ],
   "source": [
    "from itertools import combinations_with_replacement\n",
    "\n",
    "for i in combinations_with_replacement('1234',2) :\n",
    "    print(i)\n"
   ]
  },
  {
   "cell_type": "code",
   "execution_count": 47,
   "metadata": {
    "collapsed": false
   },
   "outputs": [
    {
     "name": "stdout",
     "output_type": "stream",
     "text": [
      "[[1, 2, 3], [1, 3, 2], [2, 1, 3], [2, 3, 1], [3, 1, 2], [3, 2, 1]]\n"
     ]
    }
   ],
   "source": [
    "def permute(lst):\n",
    "    if not lst:\n",
    "        return [lst]\n",
    "    else:\n",
    "        res=[]\n",
    "    for i in range(len(lst)):\n",
    "        rest = lst[:i]+lst[i+1:]\n",
    "        for x in permute(rest):\n",
    "             res.append(lst[i:i+1]+x)\n",
    "    return res\n",
    "\n",
    "print(permute([1,2,3]))"
   ]
  },
  {
   "cell_type": "code",
   "execution_count": 46,
   "metadata": {
    "collapsed": false
   },
   "outputs": [
    {
     "name": "stdout",
     "output_type": "stream",
     "text": [
      "1\n",
      "[2, 3]\n",
      "2\n",
      "[3]\n",
      "3\n",
      "[2]\n",
      "2\n",
      "[1, 3]\n",
      "1\n",
      "[3]\n",
      "3\n",
      "[1]\n",
      "3\n",
      "[1, 2]\n",
      "1\n",
      "[2]\n",
      "2\n",
      "[1]\n",
      "[[1, 2, 3], [1, 3, 2], [2, 1, 3], [2, 3, 1], [3, 1, 2], [3, 2, 1]]\n"
     ]
    }
   ],
   "source": [
    "def rec_perm(iterable):\n",
    "    if len(iterable) == 1:\n",
    "        return [list(iterable)]\n",
    "    result = []\n",
    "    for i in range(len(iterable)):\n",
    "        head = iterable[i]\n",
    "        tail = iterable[:i] + iterable[i+1:]\n",
    "        result += [[head] + x for x in rec_perm(tail)]\n",
    "    return result\n",
    "\n",
    "print(rec_perm([1,2,3]))"
   ]
  },
  {
   "cell_type": "code",
   "execution_count": 48,
   "metadata": {
    "collapsed": false
   },
   "outputs": [
    {
     "name": "stdout",
     "output_type": "stream",
     "text": [
      "['1', '2', '3']\n",
      "['1', '3', '2']\n",
      "['2', '1', '3']\n",
      "['2', '3', '1']\n",
      "['3', '1', '2']\n",
      "['3', '2', '1']\n"
     ]
    }
   ],
   "source": [
    "# Python function to print permutations of a given list\n",
    "def permutation(lst):\n",
    " \n",
    "    # If lst is empty then there are no permutations\n",
    "    if len(lst) == 0:\n",
    "        return []\n",
    " \n",
    "    # If there is only one element in lst then, only\n",
    "    # one permuatation is possible\n",
    "    if len(lst) == 1:\n",
    "        return [lst]\n",
    " \n",
    "    # Find the permutations for lst if there are\n",
    "    # more than 1 characters\n",
    " \n",
    "    l = [] # empty list that will store current permutation\n",
    " \n",
    "    # Iterate the input(lst) and calculate the permutation\n",
    "    for i in range(len(lst)):\n",
    "        m = lst[i]\n",
    " \n",
    "        # Extract lst[i] or m from the list.  remLst is\n",
    "        # remaining list\n",
    "        remLst = lst[:i] + lst[i+1:]\n",
    " \n",
    "        # Generating all permutations where m is first\n",
    "        # element\n",
    "        for p in permutation(remLst):\n",
    "            l.append([m] + p)\n",
    "    return l\n",
    " \n",
    "# Driver program to test above function\n",
    "data = list('123')\n",
    "for p in permutation(data):\n",
    "    print(p)"
   ]
  },
  {
   "cell_type": "code",
   "execution_count": 68,
   "metadata": {
    "collapsed": false
   },
   "outputs": [
    {
     "name": "stdout",
     "output_type": "stream",
     "text": [
      "Overwriting test.csv\n"
     ]
    }
   ],
   "source": [
    "%%writefile test.csv\n",
    "\"넘버\";\"Gender\";\"FSIQ\";\"VIQ\";\"PIQ\";\"Weight\";\"Height\";\"MRI_Count\"\n",
    "\"1\";\"Female\";133;132;124;\"118\";\"64.5\";816932\n",
    "\"2\";\"Male\";140;150;124;\".\";\"72.5\";1001121\n",
    "\"3\";\"Male\";139;123;150;\"143\";\"73.3\";1038437\n",
    "\"4\";\"Male\";133;129;128;\"172\";\"68.8\";965353\n",
    "\"5\";\"Female\";137;132;134;\"147\";\"65.0\";951545\n"
   ]
  },
  {
   "cell_type": "code",
   "execution_count": null,
   "metadata": {
    "collapsed": false
   },
   "outputs": [],
   "source": []
  },
  {
   "cell_type": "code",
   "execution_count": 69,
   "metadata": {
    "collapsed": false
   },
   "outputs": [
    {
     "name": "stdout",
     "output_type": "stream",
     "text": [
      "   넘버  Gender  FSIQ  VIQ  PIQ  Weight  Height  MRI_Count\n",
      "0   1  Female   133  132  124   118.0    64.5     816932\n",
      "1   2    Male   140  150  124     NaN    72.5    1001121\n",
      "2   3    Male   139  123  150   143.0    73.3    1038437\n",
      "3   4    Male   133  129  128   172.0    68.8     965353\n",
      "4   5  Female   137  132  134   147.0    65.0     951545\n"
     ]
    }
   ],
   "source": [
    "import pandas\n",
    "data = pandas.read_csv('test.csv', sep=';', na_values=\".\")\n",
    "print(data )"
   ]
  },
  {
   "cell_type": "code",
   "execution_count": 75,
   "metadata": {
    "collapsed": false
   },
   "outputs": [
    {
     "name": "stdout",
     "output_type": "stream",
     "text": [
      "           t       cos       sin\n",
      "0  -6.000000  0.960170  0.279415\n",
      "1  -5.368421  0.609977  0.792419\n",
      "2  -4.736842  0.024451  0.999701\n",
      "3  -4.105263 -0.570509  0.821291\n",
      "4  -3.473684 -0.945363  0.326021\n",
      "5  -2.842105 -0.955488 -0.295030\n",
      "6  -2.210526 -0.596979 -0.802257\n",
      "7  -1.578947 -0.008151 -0.999967\n",
      "8  -0.947368  0.583822 -0.811882\n",
      "9  -0.315789  0.950551 -0.310567\n",
      "10  0.315789  0.950551  0.310567\n",
      "11  0.947368  0.583822  0.811882\n",
      "12  1.578947 -0.008151  0.999967\n",
      "13  2.210526 -0.596979  0.802257\n",
      "14  2.842105 -0.955488  0.295030\n",
      "15  3.473684 -0.945363 -0.326021\n",
      "16  4.105263 -0.570509 -0.821291\n",
      "17  4.736842  0.024451 -0.999701\n",
      "18  5.368421  0.609977 -0.792419\n",
      "19  6.000000  0.960170 -0.279415\n"
     ]
    }
   ],
   "source": [
    "import numpy as np\n",
    "import pandas\n",
    "\n",
    "t = np.linspace(-6, 6, 20)\n",
    "sin_t = np.sin(t)\n",
    "cos_t = np.cos(t)\n",
    "\n",
    "sin_cos = pandas.DataFrame(collections.OrderedDict({'t': t, 'sin': sin_t, 'cos': cos_t}))\n",
    "print(sin_cos)"
   ]
  },
  {
   "cell_type": "code",
   "execution_count": 78,
   "metadata": {
    "collapsed": false
   },
   "outputs": [
    {
     "name": "stdout",
     "output_type": "stream",
     "text": [
      " odd events  0.5\n",
      " even events  0.5\n",
      "[0.5, 0.5, 0.5, 0.5, 0.5, 0.5]\n"
     ]
    }
   ],
   "source": [
    "sp = [1,2,3,4,5,6]\n",
    "event1 = [1,3,5]\n",
    "event2 = [2,4,6]\n",
    "\n",
    "#  확률 \n",
    "print(\" odd events \", len(event1)/len(sp))\n",
    "print(\" even events \", len(event2)/len(sp))\n",
    "\n",
    "def prob(x) :\n",
    "    if x % 2 == 0 :\n",
    "        return len(event2)/len(sp)\n",
    "    else :\n",
    "        return len(event1)/len(sp)\n",
    "    \n",
    "print(list(map(prob, [1,2,3,4,5,6])))"
   ]
  },
  {
   "cell_type": "code",
   "execution_count": 93,
   "metadata": {
    "collapsed": false
   },
   "outputs": [
    {
     "name": "stdout",
     "output_type": "stream",
     "text": [
      "{2}\n",
      "0.5\n",
      "0.16666666666666666\n",
      "0.08333333333333333\n",
      "0.16666666666666666\n"
     ]
    }
   ],
   "source": [
    "sp = [1,2,3,4,5,6]\n",
    "event1 = set([2,4,6])\n",
    "event2 = set([2])\n",
    "#  확률 event1 & event2\n",
    "print(event1 & event2)\n",
    "pe12 = len(event1 & event2)/len(sp)\n",
    "#  확률 event 1\n",
    "pe1 = len(event1)/len(sp)\n",
    "print(pe1)\n",
    "#  확률 event 2\n",
    "pe2 = len(event2)/len(sp)\n",
    "print(pe2)\n",
    "print(pe1 * pe2)\n",
    "#p( pe1 & pe2)= p(pe1|pe2) * p(pe2)\n",
    "print(pe12/pe2 *pe2)"
   ]
  },
  {
   "cell_type": "code",
   "execution_count": 84,
   "metadata": {
    "collapsed": false
   },
   "outputs": [
    {
     "name": "stdout",
     "output_type": "stream",
     "text": [
      "            type  income  education  prestige\n",
      "accountant  prof      62         86        82\n",
      "pilot       prof      72         76        83\n",
      "architect   prof      75         92        90\n",
      "author      prof      55         90        76\n",
      "chemist     prof      64         86        90\n"
     ]
    }
   ],
   "source": [
    "\n",
    "from statsmodels.compat import lzip\n",
    "import numpy as np\n",
    "import pandas as pd\n",
    "import matplotlib.pyplot as plt\n",
    "import statsmodels.api as sm\n",
    "from statsmodels.formula.api import ols\n",
    "\n",
    "prestige = sm.datasets.get_rdataset(\"Duncan\", \"car\", cache=True).data\n",
    "print(prestige.head())"
   ]
  },
  {
   "cell_type": "code",
   "execution_count": 83,
   "metadata": {
    "collapsed": false
   },
   "outputs": [
    {
     "name": "stdout",
     "output_type": "stream",
     "text": [
      "                            OLS Regression Results                            \n",
      "==============================================================================\n",
      "Dep. Variable:                Lottery   R-squared:                       0.348\n",
      "Model:                            OLS   Adj. R-squared:                  0.333\n",
      "Method:                 Least Squares   F-statistic:                     22.20\n",
      "Date:                Wed, 25 Jan 2017   Prob (F-statistic):           1.90e-08\n",
      "Time:                        14:17:18   Log-Likelihood:                -379.82\n",
      "No. Observations:                  86   AIC:                             765.6\n",
      "Df Residuals:                      83   BIC:                             773.0\n",
      "Df Model:                           2                                         \n",
      "Covariance Type:            nonrobust                                         \n",
      "===================================================================================\n",
      "                      coef    std err          t      P>|t|      [95.0% Conf. Int.]\n",
      "-----------------------------------------------------------------------------------\n",
      "Intercept         246.4341     35.233      6.995      0.000       176.358   316.510\n",
      "Literacy           -0.4889      0.128     -3.832      0.000        -0.743    -0.235\n",
      "np.log(Pop1831)   -31.3114      5.977     -5.239      0.000       -43.199   -19.424\n",
      "==============================================================================\n",
      "Omnibus:                        3.713   Durbin-Watson:                   2.019\n",
      "Prob(Omnibus):                  0.156   Jarque-Bera (JB):                3.394\n",
      "Skew:                          -0.487   Prob(JB):                        0.183\n",
      "Kurtosis:                       3.003   Cond. No.                         702.\n",
      "==============================================================================\n",
      "\n",
      "Warnings:\n",
      "[1] Standard Errors assume that the covariance matrix of the errors is correctly specified.\n"
     ]
    }
   ],
   "source": [
    "import numpy as np\n",
    "import statsmodels.api as sm\n",
    "import statsmodels.formula.api as smf\n",
    "\n",
    "# Load data\n",
    "dat = sm.datasets.get_rdataset(\"Guerry\", \"HistData\").data\n",
    "\n",
    "# Fit regression model (using the natural log of one of the regressors)\n",
    "results = smf.ols('Lottery ~ Literacy + np.log(Pop1831)', data=dat).fit()\n",
    "\n",
    "# Inspect the results\n",
    "print(results.summary())"
   ]
  },
  {
   "cell_type": "code",
   "execution_count": 1,
   "metadata": {
    "collapsed": false
   },
   "outputs": [
    {
     "name": "stdout",
     "output_type": "stream",
     "text": [
      "friends: Counter({100: 4, 3: 3, 54: 1, 40: 1, 25: 1, 30: 1})\n"
     ]
    }
   ],
   "source": [
    "import collections\n",
    "\n",
    "num_firends = [100,40,30,54,25,3,100,100,100,3,3]\n",
    "friend_counts = collections.Counter(num_firends)\n",
    "print('friends:', friend_counts)"
   ]
  },
  {
   "cell_type": "code",
   "execution_count": 65,
   "metadata": {
    "collapsed": false
   },
   "outputs": [
    {
     "name": "stdout",
     "output_type": "stream",
     "text": [
      "[False, True, False, False, True, False, False, True]\n",
      "friends: Counter({1: 2, 3: 2, 2: 1, 4: 1, 5: 1, 6: 1})\n"
     ]
    },
    {
     "data": {
      "image/png": "[encoded data removed]",
      "text/plain": [
       "<matplotlib.figure.Figure at 0x6765908>"
      ]
     },
     "metadata": {},
     "output_type": "display_data"
    }
   ],
   "source": [
    "import collections\n",
    "import matplotlib.pyplot as plt\n",
    "\n",
    "def even_chk(x) :\n",
    "    if x % 2 == 0 :\n",
    "        return True\n",
    "    else :\n",
    "        return False\n",
    "    \n",
    "trial = [1,2,3,5,6,1,3,4]\n",
    "\n",
    "even_e = map(even_chk,trial)\n",
    "print(list(even_e))\n",
    "trial_counts = collections.Counter(num_firends)\n",
    "print('friends:', trial_counts)\n",
    "\n",
    "# 가시화 추가\n",
    "event = range(7)\n",
    "ys = [trial_counts[x] for x in event] \n",
    "\n",
    "#막대그래프 그리기\n",
    "plt.bar(xs,ys)\n",
    "\n",
    "#그래프 꾸미기\n",
    "plt.axis([1,7,0,5])\n",
    "plt.xlabel(\"# of dice number \")\n",
    "plt.ylabel(\"# of trial result\")\n",
    "plt.show()"
   ]
  },
  {
   "cell_type": "code",
   "execution_count": 5,
   "metadata": {
    "collapsed": false
   },
   "outputs": [
    {
     "name": "stdout",
     "output_type": "stream",
     "text": [
      "25\n",
      "100\n",
      "3\n"
     ]
    }
   ],
   "source": [
    "num_firends = [100,40,30,30,30,30,30,30,30,30,54,54,54,54,54,54,54,54,25,3,100,100,100,3,3]\n",
    "num_points = len(num_firends)\n",
    "print(num_points) # 25\n",
    "\n",
    "max_value = max(num_firends)\n",
    "print(max_value) # 100 \n",
    "min_value = min(num_firends)\n",
    "print(min_value) # 3"
   ]
  },
  {
   "cell_type": "code",
   "execution_count": 6,
   "metadata": {
    "collapsed": false
   },
   "outputs": [
    {
     "name": "stdout",
     "output_type": "stream",
     "text": [
      "3\n",
      "100\n"
     ]
    }
   ],
   "source": [
    "num_firends = [100,40,30,30,30,30,30,30,30,30,54,54,54,54,54,54,54,54,25,3,100,100,100,3,3]\n",
    "\n",
    "sorted_values = sorted(num_firends)    # 오름차순으로 정렬된 리스트를 반환한다 \n",
    "second_smallest_value = sorted_values[1]  # 두번째로 작은 값\n",
    "second_largest_value = sorted_values[-2]  # 두번째로 큰 값 , 파이선에서 -1 은 가장 뒤를 말한다\n",
    "print(second_smallest_value)\n",
    "print(second_largest_value)"
   ]
  },
  {
   "cell_type": "code",
   "execution_count": 7,
   "metadata": {
    "collapsed": false
   },
   "outputs": [
    {
     "name": "stdout",
     "output_type": "stream",
     "text": [
      "45.84\n"
     ]
    }
   ],
   "source": [
    "num_firends = [100,40,30,30,30,30,30,30,30,30,54,54,54,54,54,54,54,54,25,3,100,100,100,3,3]\n",
    "\n",
    "def mean(x) :\n",
    "    return sum(x) / len(x)\n",
    "\n",
    "avgOfFriends = mean(num_firends)\n",
    "print(avgOfFriends)"
   ]
  },
  {
   "cell_type": "code",
   "execution_count": 9,
   "metadata": {
    "collapsed": false
   },
   "outputs": [
    {
     "name": "stdout",
     "output_type": "stream",
     "text": [
      "125.7\n",
      "6.5\n"
     ]
    }
   ],
   "source": [
    "num_firends = [1200,15,10,10,9,4,3,3,2,1]\n",
    "\n",
    "\n",
    "def mean(x) :\n",
    "    return sum(x) / len(x)\n",
    "\n",
    "avgOfFriends = mean(num_firends)\n",
    "print(avgOfFriends)\n",
    "\n",
    "\n",
    "def median(v) :\n",
    "    n = len(v)\n",
    "    sorted_v = sorted(v) # 정렬해준뒤에 \n",
    "    midpoint = n // 2 # // 로 나누면 int형이 됨. / 로 나누면 float \n",
    "\n",
    "    if n % 2 == 1:\n",
    "        return sorted_v(midpoint) # 리스트가 홀 수면 가운데 값 \n",
    "    else :\n",
    "        lo = midpoint - 1 # 짝수면 가운데의 2개의 값의 평균 \n",
    "        hi = midpoint\n",
    "        return (sorted_v[lo]+sorted_v[hi]) / 2\n",
    "\n",
    "\n",
    "\n",
    "medianOfFriends = median(num_firends)\n",
    "print(medianOfFriends)"
   ]
  },
  {
   "cell_type": "code",
   "execution_count": 10,
   "metadata": {
    "collapsed": false
   },
   "outputs": [
    {
     "name": "stdout",
     "output_type": "stream",
     "text": [
      "99\n"
     ]
    }
   ],
   "source": [
    "num_firends = [100,15,10,10,9,4,3,3,2,1]\n",
    "\n",
    "def data_range(x) :\n",
    "    return max(x) - min(x)\n",
    "\n",
    "print(data_range(num_firends))"
   ]
  },
  {
   "cell_type": "code",
   "execution_count": 18,
   "metadata": {
    "collapsed": false
   },
   "outputs": [
    {
     "name": "stdout",
     "output_type": "stream",
     "text": [
      "3\n",
      "10\n",
      "7\n"
     ]
    }
   ],
   "source": [
    "num_friends = [100,15,10,10,9,4,3,3,2,1]\n",
    "def quantile(x,p) :\n",
    "    p_index = int(p * len(x))\n",
    "    return sorted(x) [p_index]\n",
    "\n",
    "print(quantile(num_friends,0.25))\n",
    "print(quantile(num_friends,0.75))\n",
    "\n",
    "def interquartile_range(x):\n",
    "    return quantile(x,0.75) - quantile(x,0.25)\n",
    "\n",
    "print(interquartile_range(num_friends))"
   ]
  },
  {
   "cell_type": "code",
   "execution_count": 13,
   "metadata": {
    "collapsed": false
   },
   "outputs": [
    {
     "name": "stdout",
     "output_type": "stream",
     "text": [
      "897.7888888888888\n"
     ]
    }
   ],
   "source": [
    "import math\n",
    "\n",
    "num_firends = [100,15,10,10,9,4,3,3,2,1]\n",
    "\n",
    "def mean(x) :\n",
    "    return sum(x) / len(x)\n",
    "\n",
    "def dot(v,w) :\n",
    "    return sum(v_i * w_i for v_i, w_i in zip (v,w))\n",
    "\n",
    "def sum_of_squares(v) :\n",
    "    return dot(v,v)\n",
    "\n",
    "\n",
    "def de_mean(x) : # 요소들과 평균의 차이\n",
    "    x_bar = mean(x)\n",
    "    return [x_i - x_bar for x_i in x]\n",
    "\n",
    "def variance(x) : \n",
    "    n = len(x)\n",
    "    deviations = de_mean(x)\n",
    "    return sum_of_squares(deviations) / (n-1) # n으로 나누기보다 n-1로 나누어야 정확하게 보정됨 (위키참조)\n",
    "\n",
    "\n",
    "print(variance(num_firends))"
   ]
  },
  {
   "cell_type": "code",
   "execution_count": 21,
   "metadata": {
    "collapsed": false
   },
   "outputs": [
    {
     "name": "stdout",
     "output_type": "stream",
     "text": [
      "29.96312548598508\n"
     ]
    }
   ],
   "source": [
    "num_friends = [100,15,10,10,9,4,3,3,2,1]\n",
    "def standard_deviation(x) :\n",
    "    return math.sqrt(variance(x)) \n",
    "\n",
    "print(standard_deviation(num_friends))"
   ]
  },
  {
   "cell_type": "code",
   "execution_count": 1,
   "metadata": {
    "collapsed": false
   },
   "outputs": [
    {
     "data": {
      "text/plain": [
       "['__call__',\n",
       " '__class__',\n",
       " '__delattr__',\n",
       " '__dict__',\n",
       " '__dir__',\n",
       " '__doc__',\n",
       " '__eq__',\n",
       " '__format__',\n",
       " '__ge__',\n",
       " '__getattribute__',\n",
       " '__gt__',\n",
       " '__hash__',\n",
       " '__init__',\n",
       " '__le__',\n",
       " '__lt__',\n",
       " '__module__',\n",
       " '__ne__',\n",
       " '__new__',\n",
       " '__reduce__',\n",
       " '__reduce_ex__',\n",
       " '__repr__',\n",
       " '__setattr__',\n",
       " '__sizeof__',\n",
       " '__str__',\n",
       " '__subclasshook__',\n",
       " '__weakref__',\n",
       " '_find_error_handler',\n",
       " '_get_exc_class_and_code',\n",
       " '_register_error_handler',\n",
       " 'add_template_filter',\n",
       " 'add_template_global',\n",
       " 'add_template_test',\n",
       " 'add_url_rule',\n",
       " 'after_request',\n",
       " 'app_context',\n",
       " 'app_ctx_globals_class',\n",
       " 'auto_find_instance_path',\n",
       " 'before_first_request',\n",
       " 'before_request',\n",
       " 'config_class',\n",
       " 'context_processor',\n",
       " 'create_global_jinja_loader',\n",
       " 'create_jinja_environment',\n",
       " 'create_url_adapter',\n",
       " 'debug',\n",
       " 'default_config',\n",
       " 'dispatch_request',\n",
       " 'do_teardown_appcontext',\n",
       " 'do_teardown_request',\n",
       " 'endpoint',\n",
       " 'error_handlers',\n",
       " 'errorhandler',\n",
       " 'finalize_request',\n",
       " 'full_dispatch_request',\n",
       " 'get_send_file_max_age',\n",
       " 'got_first_request',\n",
       " 'handle_exception',\n",
       " 'handle_http_exception',\n",
       " 'handle_url_build_error',\n",
       " 'handle_user_exception',\n",
       " 'has_static_folder',\n",
       " 'init_jinja_globals',\n",
       " 'inject_url_defaults',\n",
       " 'iter_blueprints',\n",
       " 'jinja_env',\n",
       " 'jinja_environment',\n",
       " 'jinja_loader',\n",
       " 'jinja_options',\n",
       " 'json_decoder',\n",
       " 'json_encoder',\n",
       " 'log_exception',\n",
       " 'logger',\n",
       " 'logger_name',\n",
       " 'make_config',\n",
       " 'make_default_options_response',\n",
       " 'make_null_session',\n",
       " 'make_response',\n",
       " 'make_shell_context',\n",
       " 'name',\n",
       " 'open_instance_resource',\n",
       " 'open_resource',\n",
       " 'open_session',\n",
       " 'permanent_session_lifetime',\n",
       " 'preprocess_request',\n",
       " 'preserve_context_on_exception',\n",
       " 'process_response',\n",
       " 'propagate_exceptions',\n",
       " 'raise_routing_exception',\n",
       " 'register_blueprint',\n",
       " 'register_error_handler',\n",
       " 'request_class',\n",
       " 'request_context',\n",
       " 'request_globals_class',\n",
       " 'response_class',\n",
       " 'route',\n",
       " 'run',\n",
       " 'save_session',\n",
       " 'secret_key',\n",
       " 'select_jinja_autoescape',\n",
       " 'send_file_max_age_default',\n",
       " 'send_static_file',\n",
       " 'session_cookie_name',\n",
       " 'session_interface',\n",
       " 'shell_context_processor',\n",
       " 'should_ignore_error',\n",
       " 'static_folder',\n",
       " 'static_url_path',\n",
       " 'teardown_appcontext',\n",
       " 'teardown_request',\n",
       " 'template_filter',\n",
       " 'template_global',\n",
       " 'template_test',\n",
       " 'test_client',\n",
       " 'test_client_class',\n",
       " 'test_request_context',\n",
       " 'testing',\n",
       " 'trap_http_exception',\n",
       " 'try_trigger_before_first_request_functions',\n",
       " 'update_template_context',\n",
       " 'url_defaults',\n",
       " 'url_rule_class',\n",
       " 'url_value_preprocessor',\n",
       " 'use_x_sendfile',\n",
       " 'wsgi_app']"
      ]
     },
     "execution_count": 1,
     "metadata": {},
     "output_type": "execute_result"
    }
   ],
   "source": [
    "from flask import Flask\n",
    "dir(Flask)"
   ]
  },
  {
   "cell_type": "code",
   "execution_count": 2,
   "metadata": {
    "collapsed": false
   },
   "outputs": [
    {
     "name": "stdout",
     "output_type": "stream",
     "text": [
      "Help on function run in module flask.app:\n",
      "\n",
      "run(self, host=None, port=None, debug=None, **options)\n",
      "    Runs the application on a local development server.\n",
      "    \n",
      "    Do not use ``run()`` in a production setting. It is not intended to\n",
      "    meet security and performance requirements for a production server.\n",
      "    Instead, see :ref:`deployment` for WSGI server recommendations.\n",
      "    \n",
      "    If the :attr:`debug` flag is set the server will automatically reload\n",
      "    for code changes and show a debugger in case an exception happened.\n",
      "    \n",
      "    If you want to run the application in debug mode, but disable the\n",
      "    code execution on the interactive debugger, you can pass\n",
      "    ``use_evalex=False`` as parameter.  This will keep the debugger's\n",
      "    traceback screen active, but disable code execution.\n",
      "    \n",
      "    It is not recommended to use this function for development with\n",
      "    automatic reloading as this is badly supported.  Instead you should\n",
      "    be using the :command:`flask` command line script's ``run`` support.\n",
      "    \n",
      "    .. admonition:: Keep in Mind\n",
      "    \n",
      "       Flask will suppress any server error with a generic error page\n",
      "       unless it is in debug mode.  As such to enable just the\n",
      "       interactive debugger without the code reloading, you have to\n",
      "       invoke :meth:`run` with ``debug=True`` and ``use_reloader=False``.\n",
      "       Setting ``use_debugger`` to ``True`` without being in debug mode\n",
      "       won't catch any exceptions because there won't be any to\n",
      "       catch.\n",
      "    \n",
      "    .. versionchanged:: 0.10\n",
      "       The default port is now picked from the ``SERVER_NAME`` variable.\n",
      "    \n",
      "    :param host: the hostname to listen on. Set this to ``'0.0.0.0'`` to\n",
      "                 have the server available externally as well. Defaults to\n",
      "                 ``'127.0.0.1'``.\n",
      "    :param port: the port of the webserver. Defaults to ``5000`` or the\n",
      "                 port defined in the ``SERVER_NAME`` config variable if\n",
      "                 present.\n",
      "    :param debug: if given, enable or disable debug mode.\n",
      "                  See :attr:`debug`.\n",
      "    :param options: the options to be forwarded to the underlying\n",
      "                    Werkzeug server.  See\n",
      "                    :func:`werkzeug.serving.run_simple` for more\n",
      "                    information.\n",
      "\n"
     ]
    }
   ],
   "source": [
    "help(Flask.run)"
   ]
  },
  {
   "cell_type": "code",
   "execution_count": 5,
   "metadata": {
    "collapsed": false
   },
   "outputs": [
    {
     "name": "stdout",
     "output_type": "stream",
     "text": [
      "Overwriting app/templates/about.html\n"
     ]
    }
   ],
   "source": [
    "%%writefile app/templates/about.html\n",
    "{% extends \"layout.html\" %}\n",
    "{% block content %}\n",
    "  <div class=\"jumbo\">\n",
    "    <h2>About</h2>\n",
    "    <p>This is an About page for the Intro to Flask article. Don't I look good? Oh stop, you're making me blush.</p>\n",
    "   </div>\n",
    "{% endblock %}"
   ]
  },
  {
   "cell_type": "code",
   "execution_count": null,
   "metadata": {
    "collapsed": true
   },
   "outputs": [],
   "source": []
  }
 ],
 "metadata": {
  "anaconda-cloud": {},
  "kernelspec": {
   "display_name": "Python [conda root]",
   "language": "python",
   "name": "conda-root-py"
  },
  "language_info": {
   "codemirror_mode": {
    "name": "ipython",
    "version": 3
   },
   "file_extension": ".py",
   "mimetype": "text/x-python",
   "name": "python",
   "nbconvert_exporter": "python",
   "pygments_lexer": "ipython3",
   "version": "3.5.2"
  }
 },
 "nbformat": 4,
 "nbformat_minor": 1
}
