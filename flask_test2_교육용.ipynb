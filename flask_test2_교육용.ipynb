{
 "cells": [
  {
   "cell_type": "code",
   "execution_count": 1,
   "metadata": {
    "collapsed": false
   },
   "outputs": [
    {
     "name": "stdout",
     "output_type": "stream",
     "text": [
      "Overwriting templates/h.html\n"
     ]
    }
   ],
   "source": [
    "%%writefile templates/h.html\n",
    "<!DOCTYPE html>\n",
    "<html>\n",
    "<head>\n",
    "<meta charset=\"utf-8\">\n",
    "<title>Insert title here</title>\n",
    "</head>\n",
    "<body>\n",
    "    <form action=\"/user/kim\" method=\"POST\">\n",
    "        <input type=\"hidden\" name=\"_method\" value=\"DELETE\">\n",
    "        이름:<input type=\"text\" name=\"myname\"><br>\n",
    "        나이:<input type=\"number\" name=\"myage\"><br>\n",
    "        <input type=\"submit\" value=\"제출\">\n",
    "     </form>\n",
    "</body>\n",
    "</html>"
   ]
  },
  {
   "cell_type": "code",
   "execution_count": 2,
   "metadata": {
    "collapsed": false
   },
   "outputs": [
    {
     "name": "stdout",
     "output_type": "stream",
     "text": [
      "Writing flask_ts2.py\n"
     ]
    }
   ],
   "source": [
    "%%writefile flask_ts2.py\n",
    "from flask import *\n",
    "app = Flask( __name__ )\n",
    "\n",
    "@app.route('/')\n",
    "def myTest():\n",
    "    return \"hello flask...\"\n",
    "\n",
    "@app.route('/mylog')\n",
    "def myLog():\n",
    "    return render_template('h.html')\n",
    "\n",
    "@app.before_request\n",
    "def before_request():\n",
    "    method = request.form.get('_method')\n",
    "    if method:\n",
    "        request.environ['REQUEST_METHOD'] = method\n",
    "\n",
    "@app.route('/user/')\n",
    "@app.route('/user/<uname>',methods=['GET','POST','PUT','DELETE'] )\n",
    "def userFn(uname=None):\n",
    "    _method = request.form['_method']\n",
    "    if request.method == 'GET':\n",
    "        return \"get call\"\n",
    "    elif request.method == 'POST':\n",
    "        return \"POST call\"\n",
    "    elif request.method == 'PUT':\n",
    "        return \"put call\"\n",
    "    elif request.method == 'DELETE':\n",
    "        return \"DELETE call\"\n",
    "    else:\n",
    "        return \"etc\"\n",
    "    \n",
    "\n",
    "if __name__ == '__main__':\n",
    "    app.run(use_reloader=True)"
   ]
  },
  {
   "cell_type": "code",
   "execution_count": 4,
   "metadata": {
    "collapsed": false
   },
   "outputs": [
    {
     "name": "stdout",
     "output_type": "stream",
     "text": [
      "Overwriting flask_al.py\n"
     ]
    }
   ],
   "source": [
    "%%writefile flask_al.py\n",
    "\n",
    "from flask import *\n",
    "from flask_sqlalchemy import SQLAlchemy\n",
    "from sqlalchemy.sql.schema import PrimaryKeyConstraint\n",
    "from _datetime import datetime\n",
    "app = Flask( __name__ )\n",
    "app.config['SQLALCHEMY_TRACK_MODIFICATIONS']= True\n",
    "app.config['SQLALCHEMY_DATABASE_URI'] = 'sqlite:///test.db'\n",
    "\n",
    "db = SQLAlchemy(app)\n",
    "\n",
    "class Student(db.Model):\n",
    "    __tablename__ ='student'\n",
    "    id=db.Column(db.Integer, primary_key=True)\n",
    "    name=db.Column(db.String(20), nullable=False)\n",
    "    age=db.Column(db.Integer)\n",
    "    birth=db.Column(db.DateTime)\n",
    "    \n",
    "    def __init__(self, name,age, birth):\n",
    "        self.name = name\n",
    "        self.age = age\n",
    "        self.birth =birth\n",
    "        \n",
    "class Store(db.Model):\n",
    "    __tablename__ ='store'\n",
    "    id=db.Column(db.Integer, primary_key=True)\n",
    "    product=db.Column(db.String(20), nullable=False)\n",
    "    pcnt=db.Column(db.Integer)\n",
    "    def __init__(self, product, pcnt):\n",
    "        self.product = product\n",
    "        self.pcnt = pcnt\n",
    "#테이블 생성\n",
    "db.create_all()\n",
    "\n",
    "def addDB():\n",
    "    std = Student('aa', 10, datetime(1999,10,11) )\n",
    "    db.session.add( std )\n",
    "    db.session.commit()\n",
    "    print(\"add data\")\n",
    "\n",
    "def selectDB():\n",
    "#     for a in Student.query:\n",
    "#         print(a.name, a.age, a.birth)\n",
    "#     for a in Student.query.filter_by(name='aa'):\n",
    "    for a in Student.query.filter( (Student.name =='aa') & (Student.age==10) ):\n",
    "        print(a.name, a.age, a.birth)\n",
    "def deleteDB():\n",
    "    Student.query.filter_by(age=10).delete()\n",
    "    db.session.commit()\n",
    "    print('delete ...')\n",
    "\n",
    "def updateDB():\n",
    "    #where 조건\n",
    "    for dt in Student.query.filter_by(age=20):\n",
    "        dt.name='홍길동'\n",
    "    \n",
    "    db.session.commit()\n",
    "    print('update ...')\n",
    "\n",
    "@app.route('/')\n",
    "def myTest():\n",
    "    return \"hello flask...\"\n",
    "\n",
    "if __name__ == '__main__':\n",
    "    addDB()\n",
    "#   updateDB()\n",
    "    \n",
    "#     deleteDB()\n",
    "    \n",
    "#     addDB()\n",
    "#     selectDB()\n",
    "#     addDB()\n",
    "    \n",
    "#     app.run(debug=True)\n",
    "\n",
    "\n",
    "\n",
    "\n"
   ]
  },
  {
   "cell_type": "code",
   "execution_count": 6,
   "metadata": {
    "collapsed": false
   },
   "outputs": [
    {
     "name": "stdout",
     "output_type": "stream",
     "text": [
      "Writing templates/insp.html\n"
     ]
    }
   ],
   "source": [
    "%%writefile templates/insp.html\n",
    "<!DOCTYPE html>\n",
    "<html>\n",
    "<head>\n",
    "<meta charset=\"utf-8\">\n",
    "<title>Insert title here</title>\n",
    "</head>\n",
    "<body>\n",
    "<form action=\"/ins\" method=\"POST\">\n",
    "이름:<input type=\"text\" name=\"name\"><br>\n",
    "내용:<input type=\"textarea\" name=\"contents\"><br>\n",
    "<input type=\"submit\" value=\"제출\">\n",
    "</form>\n",
    "</body>\n",
    "</html>"
   ]
  },
  {
   "cell_type": "code",
   "execution_count": 7,
   "metadata": {
    "collapsed": false
   },
   "outputs": [
    {
     "name": "stdout",
     "output_type": "stream",
     "text": [
      "Writing templates/posts.html\n"
     ]
    }
   ],
   "source": [
    "%%writefile templates/posts.html\n",
    "<!DOCTYPE html>\n",
    "<html lang=\"en\">\n",
    "<head>\n",
    "  <title>Bootstrap Example</title>\n",
    "  <meta charset=\"utf-8\">\n",
    "  <meta name=\"viewport\" content=\"width=device-width, initial-scale=1\">\n",
    "  <link rel=\"stylesheet\" href=\"https://maxcdn.bootstrapcdn.com/bootstrap/3.3.7/css/bootstrap.min.css\">\n",
    "  <script src=\"https://ajax.googleapis.com/ajax/libs/jquery/3.1.1/jquery.min.js\"></script>\n",
    "  <script src=\"https://maxcdn.bootstrapcdn.com/bootstrap/3.3.7/js/bootstrap.min.js\"></script>\n",
    "</head>\n",
    "<body>\n",
    "\n",
    "<div class=\"container\">\n",
    "  <h2>Bordered Table</h2>\n",
    "  <p>The .table-bordered class adds borders to a table:</p>            \n",
    "  <table class=\"table table-bordered\">\n",
    "    <thead>\n",
    "      <tr>\n",
    "        <th>이름</th>\n",
    "        <th>내용</th>\n",
    "      </tr>\n",
    "    </thead>\n",
    "    <tbody>\n",
    "     {% for dt in data %}\n",
    "<tr><td>{{ dt['name'] }}</td><td>{{ dt['contents'] }}</td></tr>\n",
    "    {% endfor %}\n",
    "\n",
    "    </tbody>\n",
    "  </table>\n",
    "</div>\n",
    "\n",
    "</body>\n",
    "</html>"
   ]
  },
  {
   "cell_type": "code",
   "execution_count": 8,
   "metadata": {
    "collapsed": false
   },
   "outputs": [
    {
     "name": "stdout",
     "output_type": "stream",
     "text": [
      "Writing flask_memo.py\n"
     ]
    }
   ],
   "source": [
    "%%writefile flask_memo.py\n",
    "\n",
    "from flask import *\n",
    "from flask_sqlalchemy import SQLAlchemy\n",
    "from sqlalchemy.sql.schema import PrimaryKeyConstraint\n",
    "from _datetime import datetime\n",
    "app = Flask( __name__ )\n",
    "app.config['SQLALCHEMY_TRACK_MODIFICATIONS']= True\n",
    "app.config['SQLALCHEMY_DATABASE_URI'] = 'sqlite:///test.db'\n",
    "\n",
    "db = SQLAlchemy(app)\n",
    "\n",
    "class Post(db.Model):\n",
    "    __tablename__ ='post'\n",
    "    id=db.Column(db.Integer, primary_key=True)\n",
    "    name=db.Column(db.String(20), nullable=False)\n",
    "    contents=db.Column(db.String(200))\n",
    "    \n",
    "    def __init__(self, name, contents):\n",
    "        self.name = name\n",
    "        self.contents = contents\n",
    "\n",
    "db.create_all()\n",
    "\n",
    "@app.route('/insp')\n",
    "def addrTest():\n",
    "    return  render_template('insp.html')\n",
    "\n",
    "@app.route('/ins', methods=['POST'])\n",
    "def addDB():\n",
    "    std = Post(request.form['name'], request.form['contents'])\n",
    "    db.session.add( std )\n",
    "    db.session.commit()\n",
    "    print(\"add data\")\n",
    "    return redirect('/posts')\n",
    "\n",
    "@app.route('/posts')\n",
    "def selectDB():\n",
    "    ddata = Post.query\n",
    "    return  render_template('posts.html', data=ddata)\n",
    "\n",
    "@app.route('/')\n",
    "def myTest():\n",
    "    return \"hello flask...\"\n",
    "\n",
    "if __name__ == '__main__':\n",
    "    app.run(use_reloader=True)\n",
    "    \n",
    "#     app.run(debug=True)\n"
   ]
  },
  {
   "cell_type": "code",
   "execution_count": null,
   "metadata": {
    "collapsed": true
   },
   "outputs": [],
   "source": []
  }
 ],
 "metadata": {
  "kernelspec": {
   "display_name": "Python 3",
   "language": "python",
   "name": "python3"
  },
  "language_info": {
   "codemirror_mode": {
    "name": "ipython",
    "version": 3
   },
   "file_extension": ".py",
   "mimetype": "text/x-python",
   "name": "python",
   "nbconvert_exporter": "python",
   "pygments_lexer": "ipython3",
   "version": "3.6.0"
  }
 },
 "nbformat": 4,
 "nbformat_minor": 2
}
