{
 "cells": [
  {
   "cell_type": "code",
   "execution_count": 2,
   "metadata": {
    "collapsed": false
   },
   "outputs": [
    {
     "data": {
      "text/plain": [
       "['Binary',\n",
       " 'Cache',\n",
       " 'Connection',\n",
       " 'Cursor',\n",
       " 'DataError',\n",
       " 'DatabaseError',\n",
       " 'Date',\n",
       " 'DateFromTicks',\n",
       " 'Error',\n",
       " 'IntegrityError',\n",
       " 'InterfaceError',\n",
       " 'InternalError',\n",
       " 'NotSupportedError',\n",
       " 'OperationalError',\n",
       " 'OptimizedUnicode',\n",
       " 'PARSE_COLNAMES',\n",
       " 'PARSE_DECLTYPES',\n",
       " 'PrepareProtocol',\n",
       " 'ProgrammingError',\n",
       " 'Row',\n",
       " 'SQLITE_ALTER_TABLE',\n",
       " 'SQLITE_ANALYZE',\n",
       " 'SQLITE_ATTACH',\n",
       " 'SQLITE_CREATE_INDEX',\n",
       " 'SQLITE_CREATE_TABLE',\n",
       " 'SQLITE_CREATE_TEMP_INDEX',\n",
       " 'SQLITE_CREATE_TEMP_TABLE',\n",
       " 'SQLITE_CREATE_TEMP_TRIGGER',\n",
       " 'SQLITE_CREATE_TEMP_VIEW',\n",
       " 'SQLITE_CREATE_TRIGGER',\n",
       " 'SQLITE_CREATE_VIEW',\n",
       " 'SQLITE_DELETE',\n",
       " 'SQLITE_DENY',\n",
       " 'SQLITE_DETACH',\n",
       " 'SQLITE_DROP_INDEX',\n",
       " 'SQLITE_DROP_TABLE',\n",
       " 'SQLITE_DROP_TEMP_INDEX',\n",
       " 'SQLITE_DROP_TEMP_TABLE',\n",
       " 'SQLITE_DROP_TEMP_TRIGGER',\n",
       " 'SQLITE_DROP_TEMP_VIEW',\n",
       " 'SQLITE_DROP_TRIGGER',\n",
       " 'SQLITE_DROP_VIEW',\n",
       " 'SQLITE_IGNORE',\n",
       " 'SQLITE_INSERT',\n",
       " 'SQLITE_OK',\n",
       " 'SQLITE_PRAGMA',\n",
       " 'SQLITE_READ',\n",
       " 'SQLITE_REINDEX',\n",
       " 'SQLITE_SELECT',\n",
       " 'SQLITE_TRANSACTION',\n",
       " 'SQLITE_UPDATE',\n",
       " 'Statement',\n",
       " 'Time',\n",
       " 'TimeFromTicks',\n",
       " 'Timestamp',\n",
       " 'TimestampFromTicks',\n",
       " 'Warning',\n",
       " '__builtins__',\n",
       " '__cached__',\n",
       " '__doc__',\n",
       " '__file__',\n",
       " '__loader__',\n",
       " '__name__',\n",
       " '__package__',\n",
       " '__path__',\n",
       " '__spec__',\n",
       " 'adapt',\n",
       " 'adapters',\n",
       " 'apilevel',\n",
       " 'collections',\n",
       " 'complete_statement',\n",
       " 'connect',\n",
       " 'converters',\n",
       " 'datetime',\n",
       " 'dbapi2',\n",
       " 'enable_callback_tracebacks',\n",
       " 'enable_shared_cache',\n",
       " 'paramstyle',\n",
       " 'register_adapter',\n",
       " 'register_converter',\n",
       " 'sqlite_version',\n",
       " 'sqlite_version_info',\n",
       " 'threadsafety',\n",
       " 'time',\n",
       " 'version',\n",
       " 'version_info']"
      ]
     },
     "execution_count": 2,
     "metadata": {},
     "output_type": "execute_result"
    }
   ],
   "source": [
    "import sqlite3\n",
    "dir(sqlite3)"
   ]
  },
  {
   "cell_type": "code",
   "execution_count": 4,
   "metadata": {
    "collapsed": false
   },
   "outputs": [
    {
     "name": "stdout",
     "output_type": "stream",
     "text": [
      "2.6.0\n",
      "(2, 6, 0)\n",
      "3.8.11\n",
      "(3, 8, 11)\n"
     ]
    }
   ],
   "source": [
    "import sqlite3\n",
    "#sqlite3 모듈 버전\n",
    "print(sqlite3.version)\n",
    "print(sqlite3.version_info)\n",
    "#sqlite db 버전\n",
    "print(sqlite3.sqlite_version)\n",
    "print(sqlite3.sqlite_version_info)"
   ]
  },
  {
   "cell_type": "code",
   "execution_count": 6,
   "metadata": {
    "collapsed": false
   },
   "outputs": [
    {
     "name": "stdout",
     "output_type": "stream",
     "text": [
      "<class 'builtin_function_or_method'>\n",
      "['__call__', '__class__', '__delattr__', '__dir__', '__doc__', '__eq__', '__format__', '__ge__', '__getattribute__', '__gt__', '__hash__', '__init__', '__le__', '__lt__', '__module__', '__name__', '__ne__', '__new__', '__qualname__', '__reduce__', '__reduce_ex__', '__repr__', '__self__', '__setattr__', '__sizeof__', '__str__', '__subclasshook__', '__text_signature__']\n"
     ]
    }
   ],
   "source": [
    "import sqlite3\n",
    "print(type(sqlite3.connect))\n",
    "print(dir(sqlite3.connect))"
   ]
  },
  {
   "cell_type": "code",
   "execution_count": 17,
   "metadata": {
    "collapsed": false
   },
   "outputs": [
    {
     "name": "stdout",
     "output_type": "stream",
     "text": [
      "<class 'sqlite3.Connection'>\n",
      "['DataError', 'DatabaseError', 'Error', 'IntegrityError', 'InterfaceError', 'InternalError', 'NotSupportedError', 'OperationalError', 'ProgrammingError', 'Warning', '__call__', '__class__', '__delattr__', '__dir__', '__doc__', '__enter__', '__eq__', '__exit__', '__format__', '__ge__', '__getattribute__', '__gt__', '__hash__', '__init__', '__le__', '__lt__', '__ne__', '__new__', '__reduce__', '__reduce_ex__', '__repr__', '__setattr__', '__sizeof__', '__str__', '__subclasshook__', 'close', 'commit', 'create_aggregate', 'create_collation', 'create_function', 'cursor', 'enable_load_extension', 'execute', 'executemany', 'executescript', 'in_transaction', 'interrupt', 'isolation_level', 'iterdump', 'load_extension', 'rollback', 'row_factory', 'set_authorizer', 'set_progress_handler', 'set_trace_callback', 'text_factory', 'total_changes']\n"
     ]
    }
   ],
   "source": [
    "import sqlite3\n",
    "conn = sqlite3.connect('sql_test.db')\n",
    "print(type(conn))\n",
    "print(dir(conn))"
   ]
  },
  {
   "cell_type": "code",
   "execution_count": 19,
   "metadata": {
    "collapsed": false
   },
   "outputs": [
    {
     "name": "stdout",
     "output_type": "stream",
     "text": [
      "<class 'sqlite3.Cursor'>\n",
      "arraysize\n",
      "close\n",
      "connection\n",
      "description\n",
      "execute\n",
      "executemany\n",
      "executescript\n",
      "fetchall\n",
      "fetchmany\n",
      "fetchone\n",
      "lastrowid\n",
      "row_factory\n",
      "rowcount\n",
      "setinputsizes\n",
      "setoutputsize\n"
     ]
    }
   ],
   "source": [
    "import sqlite3\n",
    "conn = sqlite3.connect('sql_test.db')\n",
    "cur = conn.cursor()\n",
    "print(type(cur))\n",
    "for i in dir(cur) :\n",
    "    if not i.startswith(\"__\") :\n",
    "        print(i)\n",
    "cur.close()"
   ]
  },
  {
   "cell_type": "code",
   "execution_count": 12,
   "metadata": {
    "collapsed": true
   },
   "outputs": [],
   "source": [
    "# student table 생성하기\n",
    "import sqlite3\n",
    "conn = sqlite3.connect('sql_test.db')\n",
    "cur = conn.cursor()\n",
    "#create table sql을 문자열로 작성\n",
    "sql = \"create table student(name text, age int)\"\n",
    "cur.execute(sql)\n",
    "conn.commit()\n",
    "conn.close()"
   ]
  },
  {
   "cell_type": "code",
   "execution_count": 68,
   "metadata": {
    "collapsed": false
   },
   "outputs": [
    {
     "name": "stdout",
     "output_type": "stream",
     "text": [
      "insert bulk sucess\n"
     ]
    }
   ],
   "source": [
    "def bulk_insertTable() :\n",
    "    try :\n",
    "         # 기본 port는 부여하지 않아도 됨\n",
    "        conn = sqlite3.connect('sql_test.db')\n",
    "        cur = conn.cursor()\n",
    "        sql = \"insert into student(name, age) values(?,?)\"\n",
    "        data = [('김철수10',50),('김철수11',50),\n",
    "                ('김철수12',50)]\n",
    "        cur.executemany(sql,data)\n",
    "        conn.commit()\n",
    "        conn.close()\n",
    "        print(\"insert bulk sucess\")\n",
    "    except Exception as err :\n",
    "        print('error ', err)\n",
    "        \n",
    "bulk_insertTable()"
   ]
  },
  {
   "cell_type": "code",
   "execution_count": 22,
   "metadata": {
    "collapsed": false
   },
   "outputs": [
    {
     "name": "stdout",
     "output_type": "stream",
     "text": [
      "insert sucess\n"
     ]
    }
   ],
   "source": [
    "import sqlite3\n",
    "\n",
    "        \n",
    "def insertTable() :\n",
    "    try :\n",
    "        db = sqlite3.connect('sql_test.db')\n",
    "        cur = db.cursor()\n",
    "        sql = \"insert into student(name, age) values(?,?)\"\n",
    "        data = ('박순신',40)\n",
    "        cur.execute(sql,data)\n",
    "        db.commit()\n",
    "        db.close()\n",
    "        print(\"insert sucess\")\n",
    "    except Exception as err :\n",
    "        print('error ', err)\n",
    "        \n",
    "        \n",
    "insertTable()\n"
   ]
  },
  {
   "cell_type": "code",
   "execution_count": 23,
   "metadata": {
    "collapsed": false
   },
   "outputs": [
    {
     "name": "stdout",
     "output_type": "stream",
     "text": [
      "[('이순신', 40), ('박순신', 40)]\n",
      "이름: 이순신 나이: 40\n",
      "이름: 박순신 나이: 40\n",
      "select fetch all sucess\n"
     ]
    }
   ],
   "source": [
    "import sqlite3\n",
    "def selectTable() :\n",
    "    try :\n",
    "        db = sqlite3.connect('sql_test.db')\n",
    "        cur = db.cursor()\n",
    "        sql = \"select * from student\"\n",
    "        cur.execute(sql)\n",
    "        data = cur.fetchall()\n",
    "        print(data)\n",
    "        for dt in data :\n",
    "            print(\"이름: %s 나이: %d\" % (dt[0], dt[1]))\n",
    "        db.close()\n",
    "        print(\"select fetch all sucess\")\n",
    "    except Exception as err :\n",
    "        print('error ', err)\n",
    "        \n",
    "selectTable()"
   ]
  },
  {
   "cell_type": "code",
   "execution_count": 62,
   "metadata": {
    "collapsed": false
   },
   "outputs": [
    {
     "name": "stdout",
     "output_type": "stream",
     "text": [
      "이름: 김철수7 나이: 50\n",
      "이름: 파이썬2 나이: 60\n",
      "이름: 파이썬3 나이: 70\n",
      "이름: 김철수1 나이: 50\n",
      "이름: 김철수2 나이: 60\n",
      "이름: 김철수3 나이: 70\n",
      "select cur sucess\n"
     ]
    }
   ],
   "source": [
    "import sqlite3\n",
    "def select_curTable() :\n",
    "    try :\n",
    "        db = sqlite3.connect('sql_test.db')\n",
    "        cur = db.cursor()\n",
    "        sql = \"select * from student\"\n",
    "        cur.execute(sql)\n",
    "        \n",
    "        for dt in cur :\n",
    "            print(\"이름: %s 나이: %d\" % (dt[0], dt[1]))\n",
    "        db.close()\n",
    "        print(\"select cur sucess\")\n",
    "    except Exception as err :\n",
    "        print('error ', err)\n",
    "        \n",
    "select_curTable()"
   ]
  },
  {
   "cell_type": "code",
   "execution_count": 21,
   "metadata": {
    "collapsed": false
   },
   "outputs": [
    {
     "name": "stdout",
     "output_type": "stream",
     "text": [
      "이름: 이순신 나이: 40\n",
      "select cur sucess\n"
     ]
    }
   ],
   "source": [
    "import sqlite3\n",
    "def select_foneTable() :\n",
    "    try :\n",
    "        db = sqlite3.connect('sql_test.db')\n",
    "        cur = db.cursor()\n",
    "        sql = \"select * from student\"\n",
    "        cur.execute(sql)\n",
    "        data = cur.fetchone()\n",
    "        \n",
    "        print(\"이름: %s 나이: %d\" % (data[0], data[1]))\n",
    "        db.close()\n",
    "        print(\"select cur sucess\")\n",
    "    except Exception as err :\n",
    "        print('error ', err)\n",
    "        \n",
    "select_foneTable()"
   ]
  },
  {
   "cell_type": "code",
   "execution_count": 27,
   "metadata": {
    "collapsed": false
   },
   "outputs": [
    {
     "name": "stdout",
     "output_type": "stream",
     "text": [
      " update sucess\n"
     ]
    }
   ],
   "source": [
    "import sqlite3\n",
    "def updateTable() :\n",
    "    try :\n",
    "        db = sqlite3.connect('sql_test.db')\n",
    "        cur = db.cursor()\n",
    "        sql = \"update student set name=? where age=?\"\n",
    "        data =(\"파이썬2\",60)\n",
    "        cur.execute(sql,data)\n",
    "        \n",
    "        db.commit()\n",
    "        db.close()\n",
    "        print(\" update sucess\")\n",
    "    except Exception as err :\n",
    "        print('error ', err)\n",
    "        \n",
    "updateTable()"
   ]
  },
  {
   "cell_type": "code",
   "execution_count": 29,
   "metadata": {
    "collapsed": false
   },
   "outputs": [
    {
     "name": "stdout",
     "output_type": "stream",
     "text": [
      " update sucess\n"
     ]
    }
   ],
   "source": [
    "import sqlite3\n",
    "def update_allTable() :\n",
    "    try :\n",
    "        db = sqlite3.connect('sql_test.db')\n",
    "        cur = db.cursor()\n",
    "        sql = \"update student set name=? where age=?\"\n",
    "        data =[(\"파이썬2\",60), (\"파이썬3\",70)]\n",
    "        cur.executemany(sql,data)\n",
    "        \n",
    "        db.commit()\n",
    "        db.close()\n",
    "        print(\" update sucess\")\n",
    "    except Exception as err :\n",
    "        print('error ', err)\n",
    "        \n",
    "update_allTable()"
   ]
  },
  {
   "cell_type": "code",
   "execution_count": 31,
   "metadata": {
    "collapsed": false
   },
   "outputs": [
    {
     "name": "stdout",
     "output_type": "stream",
     "text": [
      " delete sucess\n"
     ]
    }
   ],
   "source": [
    "import sqlite3\n",
    "def deleteTable() :\n",
    "    try :\n",
    "        db = sqlite3.connect('sql_test.db')\n",
    "        cur = db.cursor()\n",
    "        sql = \"delete from student where age= ?\"\n",
    "        data = (40,)\n",
    "        cur.execute(sql,data)\n",
    "        \n",
    "        db.commit()\n",
    "        db.close()\n",
    "        print(\" delete sucess\")\n",
    "    except Exception as err :\n",
    "        print('error ', err)\n",
    "        \n",
    "deleteTable()"
   ]
  },
  {
   "cell_type": "code",
   "execution_count": 34,
   "metadata": {
    "collapsed": false
   },
   "outputs": [
    {
     "name": "stdout",
     "output_type": "stream",
     "text": [
      "이름: 파이썬2 나이: 60\n",
      "이름: 파이썬3 나이: 70\n",
      " where and sucess\n"
     ]
    }
   ],
   "source": [
    "import sqlite3\n",
    "def where_and_Table() :\n",
    "    try :\n",
    "        db = sqlite3.connect('sql_test.db')\n",
    "        cur = db.cursor()\n",
    "        sql = \"select * from student where name=? or age= ?\"\n",
    "        data = (\"파이썬2\",70)\n",
    "        cur.execute(sql,data)\n",
    "        \n",
    "        for dt in cur :\n",
    "            print(\"이름: %s 나이: %d\" % (dt[0], dt[1]))\n",
    "        db.close()\n",
    "       \n",
    "        print(\" where and sucess\")\n",
    "    except Exception as err :\n",
    "        print('error ', err)\n",
    "        \n",
    "where_and_Table()"
   ]
  },
  {
   "cell_type": "code",
   "execution_count": 36,
   "metadata": {
    "collapsed": false
   },
   "outputs": [
    {
     "name": "stdout",
     "output_type": "stream",
     "text": [
      "이름: 파이썬2 나이: 60\n",
      "이름: 파이썬3 나이: 70\n",
      " between and sucess\n"
     ]
    }
   ],
   "source": [
    "import sqlite3\n",
    "def between_and_Table() :\n",
    "    try :\n",
    "        db = sqlite3.connect('sql_test.db')\n",
    "        cur = db.cursor()\n",
    "        sql = \"select * from student where age between 60 and 70\"\n",
    "        \n",
    "        cur.execute(sql)\n",
    "        \n",
    "        for dt in cur :\n",
    "            print(\"이름: %s 나이: %d\" % (dt[0], dt[1]))\n",
    "        db.close()\n",
    "       \n",
    "        print(\" between and sucess\")\n",
    "    except Exception as err :\n",
    "        print('error ', err)\n",
    "        \n",
    "between_and_Table()"
   ]
  },
  {
   "cell_type": "code",
   "execution_count": 38,
   "metadata": {
    "collapsed": false
   },
   "outputs": [
    {
     "name": "stdout",
     "output_type": "stream",
     "text": [
      "이름: 파이썬2 나이: 60\n",
      "이름: 파이썬3 나이: 70\n",
      " like sucess\n"
     ]
    }
   ],
   "source": [
    "import sqlite3\n",
    "def like_Table() :\n",
    "    try :\n",
    "        db = sqlite3.connect('sql_test.db')\n",
    "        cur = db.cursor()\n",
    "        sql = \"select * from student where name like '파%' \"\n",
    "        \n",
    "        cur.execute(sql)\n",
    "        \n",
    "        for dt in cur :\n",
    "            print(\"이름: %s 나이: %d\" % (dt[0], dt[1]))\n",
    "        db.close()\n",
    "       \n",
    "        print(\" like sucess\")\n",
    "    except Exception as err :\n",
    "        print('error ', err)\n",
    "        \n",
    "like_Table()"
   ]
  },
  {
   "cell_type": "code",
   "execution_count": 39,
   "metadata": {
    "collapsed": false
   },
   "outputs": [
    {
     "name": "stdout",
     "output_type": "stream",
     "text": [
      "이름: 파이썬2 나이: 60\n",
      "이름: 파이썬3 나이: 70\n",
      " like sucess\n"
     ]
    }
   ],
   "source": [
    "import sqlite3\n",
    "def like1_Table() :\n",
    "    try :\n",
    "        db = sqlite3.connect('sql_test.db')\n",
    "        cur = db.cursor()\n",
    "        sql = \"select * from student where name like '파이썬_' \"\n",
    "        \n",
    "        cur.execute(sql)\n",
    "        \n",
    "        for dt in cur :\n",
    "            print(\"이름: %s 나이: %d\" % (dt[0], dt[1]))\n",
    "        db.close()\n",
    "       \n",
    "        print(\" like sucess\")\n",
    "    except Exception as err :\n",
    "        print('error ', err)\n",
    "        \n",
    "like1_Table()"
   ]
  },
  {
   "cell_type": "code",
   "execution_count": 44,
   "metadata": {
    "collapsed": false
   },
   "outputs": [
    {
     "name": "stdout",
     "output_type": "stream",
     "text": [
      "이름: 김철수7 나이: 50\n",
      "이름: 파이썬2 나이: 60\n",
      "이름: 파이썬3 나이: 70\n",
      " like sucess\n"
     ]
    }
   ],
   "source": [
    "import sqlite3\n",
    "def limit_Table() :\n",
    "    try :\n",
    "        db = sqlite3.connect('sql_test.db')\n",
    "        cur = db.cursor()\n",
    "        sql = \"select * from student  limit ? \"\n",
    "        \n",
    "        data = (3,)\n",
    "        cur.execute(sql, data)\n",
    "        \n",
    "        for dt in cur :\n",
    "            print(\"이름: %s 나이: %d\" % (dt[0], dt[1]))\n",
    "        db.close()\n",
    "       \n",
    "        print(\" like sucess\")\n",
    "    except Exception as err :\n",
    "        print('error ', err)\n",
    "        \n",
    "limit_Table()"
   ]
  },
  {
   "cell_type": "code",
   "execution_count": 43,
   "metadata": {
    "collapsed": false
   },
   "outputs": [
    {
     "name": "stdout",
     "output_type": "stream",
     "text": [
      "이름: 김철수7 나이: 50\n",
      "이름: 김철수1 나이: 50\n",
      "이름: 김철수2 나이: 60\n",
      " like sucess\n"
     ]
    }
   ],
   "source": [
    "import sqlite3\n",
    "def like1_Table() :\n",
    "    try :\n",
    "        db = sqlite3.connect('sql_test.db')\n",
    "        cur = db.cursor()\n",
    "        sql = \"select * from student where name like '김%' limit ? \"\n",
    "        \n",
    "        data = (3,)\n",
    "        cur.execute(sql, data)\n",
    "        \n",
    "        for dt in cur :\n",
    "            print(\"이름: %s 나이: %d\" % (dt[0], dt[1]))\n",
    "        db.close()\n",
    "       \n",
    "        print(\" like sucess\")\n",
    "    except Exception as err :\n",
    "        print('error ', err)\n",
    "        \n",
    "like1_Table()"
   ]
  },
  {
   "cell_type": "code",
   "execution_count": 49,
   "metadata": {
    "collapsed": false
   },
   "outputs": [
    {
     "name": "stdout",
     "output_type": "stream",
     "text": [
      "이름: 김철수7 나이: 50\n",
      "이름: 김철수1 나이: 50\n",
      "이름: 파이썬2 나이: 60\n",
      "이름: 김철수2 나이: 60\n",
      "이름: 파이썬3 나이: 70\n",
      "이름: 김철수3 나이: 70\n",
      " orderby sucess\n"
     ]
    }
   ],
   "source": [
    "import sqlite3\n",
    "def orderby_Table() :\n",
    "    try :\n",
    "        db = sqlite3.connect('sql_test.db')\n",
    "        cur = db.cursor()\n",
    "        sql = \"select * from student order by age asc \"\n",
    "        \n",
    "        cur.execute(sql)\n",
    "        \n",
    "        for dt in cur :\n",
    "            print(\"이름: %s 나이: %d\" % (dt[0], dt[1]))\n",
    "        db.close()\n",
    "       \n",
    "        print(\" orderby sucess\")\n",
    "    except Exception as err :\n",
    "        print('error ', err)\n",
    "        \n",
    "orderby_Table()"
   ]
  },
  {
   "cell_type": "code",
   "execution_count": 51,
   "metadata": {
    "collapsed": false
   },
   "outputs": [
    {
     "name": "stdout",
     "output_type": "stream",
     "text": [
      "이름: 파이썬3 나이: 70\n",
      "이름: 파이썬2 나이: 60\n",
      " orderby sucess\n"
     ]
    }
   ],
   "source": [
    "import sqlite3\n",
    "def orderbyd_Table() :\n",
    "    try :\n",
    "        db = sqlite3.connect('sql_test.db')\n",
    "        cur = db.cursor()\n",
    "        sql = \"select * from student where name like '파%' order by age desc \"\n",
    "        \n",
    "        cur.execute(sql)\n",
    "        \n",
    "        for dt in cur :\n",
    "            print(\"이름: %s 나이: %d\" % (dt[0], dt[1]))\n",
    "        db.close()\n",
    "       \n",
    "        print(\" orderby sucess\")\n",
    "    except Exception as err :\n",
    "        print('error ', err)\n",
    "        \n",
    "orderbyd_Table()"
   ]
  },
  {
   "cell_type": "code",
   "execution_count": 57,
   "metadata": {
    "collapsed": false
   },
   "outputs": [
    {
     "name": "stdout",
     "output_type": "stream",
     "text": [
      "(2,)\n",
      " orderby sucess\n"
     ]
    }
   ],
   "source": [
    "import sqlite3\n",
    "def groupby_Table() :\n",
    "    try :\n",
    "        db = sqlite3.connect('sql_test.db')\n",
    "        cur = db.cursor()\n",
    "        sql = \"select count(*) from student group by age \"\n",
    "        \n",
    "        cur.execute(sql)\n",
    "        \n",
    "        print(cur.fetchone())\n",
    "        db.close()\n",
    "       \n",
    "        print(\" orderby sucess\")\n",
    "    except Exception as err :\n",
    "        print('error ', err)\n",
    "        \n",
    "groupby_Table()"
   ]
  },
  {
   "cell_type": "code",
   "execution_count": 64,
   "metadata": {
    "collapsed": false
   },
   "outputs": [
    {
     "name": "stdout",
     "output_type": "stream",
     "text": [
      "(50, 2)\n",
      "(60, 2)\n",
      "(70, 2)\n",
      " groupby sucess\n"
     ]
    }
   ],
   "source": [
    "import sqlite3\n",
    "def groupby_Table() :\n",
    "    try :\n",
    "        db = sqlite3.connect('sql_test.db')\n",
    "        cur = db.cursor()\n",
    "        sql = \"select age, count(*) from student group by age \"\n",
    "        \n",
    "        cur.execute(sql)\n",
    "        \n",
    "        for i in cur :\n",
    "            print(i)\n",
    "        db.close()\n",
    "       \n",
    "        print(\" groupby sucess\")\n",
    "    except Exception as err :\n",
    "        print('error ', err)\n",
    "        \n",
    "groupby_Table()"
   ]
  },
  {
   "cell_type": "code",
   "execution_count": 71,
   "metadata": {
    "collapsed": false
   },
   "outputs": [
    {
     "name": "stdout",
     "output_type": "stream",
     "text": [
      "(50, 6)\n",
      " groupby sucess\n"
     ]
    }
   ],
   "source": [
    "import sqlite3\n",
    "def where_groupby_Table() :\n",
    "    try :\n",
    "        db = sqlite3.connect('sql_test.db')\n",
    "        cur = db.cursor()\n",
    "        sql = \"select age, count(*) from student where age between 50 and 60 \\\n",
    "        group by age having count(*)> 3  \"\n",
    "        \n",
    "        cur.execute(sql)\n",
    "        \n",
    "        for i in cur :\n",
    "            print(i)\n",
    "        db.close()\n",
    "       \n",
    "        print(\" groupby sucess\")\n",
    "    except Exception as err :\n",
    "        print('error ', err)\n",
    "        \n",
    "where_groupby_Table()"
   ]
  },
  {
   "cell_type": "code",
   "execution_count": 72,
   "metadata": {
    "collapsed": true
   },
   "outputs": [],
   "source": [
    "# student table 생성하기\n",
    "import sqlite3\n",
    "conn = sqlite3.connect('sql_test.db')\n",
    "cur = conn.cursor()\n",
    "#create table sql을 문자열로 작성\n",
    "sql = \"create table DEPARTMENT(ID INT PRIMARY KEY NOT NULL,DEPT TEXT, EMP_ID INT )\"\n",
    "cur.execute(sql)\n",
    "conn.commit()\n",
    "conn.close()\n"
   ]
  },
  {
   "cell_type": "code",
   "execution_count": 77,
   "metadata": {
    "collapsed": false
   },
   "outputs": [
    {
     "name": "stdout",
     "output_type": "stream",
     "text": [
      "insert bulk sucess\n"
     ]
    }
   ],
   "source": [
    "def bulk_insertTable() :\n",
    "    try :\n",
    "         # 기본 port는 부여하지 않아도 됨\n",
    "        conn = sqlite3.connect('sql_test.db')\n",
    "        cur = conn.cursor()\n",
    "        sql = \"insert into DEPARTMENT(id, dept, emp_id) values(?,?,?)\"\n",
    "        '''\n",
    "        data = [(1,\"기획\",1),(2,'재무',2),\n",
    "                (3,'경리',3),(4,'영업',4),\n",
    "                (5,'인사',5)]\n",
    "        '''\n",
    "        data = [(6,\"회계\",6),(7,\"총무\",7)]\n",
    "        cur.executemany(sql,data)\n",
    "        conn.commit()\n",
    "        conn.close()\n",
    "        print(\"insert bulk sucess\")\n",
    "    except Exception as err :\n",
    "        print('error ', err)\n",
    "        \n",
    "bulk_insertTable()"
   ]
  },
  {
   "cell_type": "code",
   "execution_count": 94,
   "metadata": {
    "collapsed": false
   },
   "outputs": [
    {
     "name": "stdout",
     "output_type": "stream",
     "text": [
      "(1, '기획')\n",
      "(2, '재무')\n",
      "(3, '경리')\n",
      "(4, '영업')\n",
      "(5, '인사')\n",
      "(6, '회계')\n",
      "(7, '총무')\n",
      "select sucess\n"
     ]
    }
   ],
   "source": [
    "def select_Table() :\n",
    "    try :\n",
    "         # 기본 port는 부여하지 않아도 됨\n",
    "        conn = sqlite3.connect('sql_test.db')\n",
    "        cur = conn.cursor()\n",
    "        sql = \"select * from DEPARTMENT;\"\n",
    "        \n",
    "        cur.execute(sql)\n",
    "        for i in cur :\n",
    "            print(i)\n",
    "        conn.close()\n",
    "        print(\"select sucess\")\n",
    "    except Exception as err :\n",
    "        print('error ', err)\n",
    "        \n",
    "select_Table()"
   ]
  },
  {
   "cell_type": "code",
   "execution_count": 110,
   "metadata": {
    "collapsed": false
   },
   "outputs": [
    {
     "name": "stdout",
     "output_type": "stream",
     "text": [
      "insert bulk sucess\n"
     ]
    }
   ],
   "source": [
    "def bulk_insertTable() :\n",
    "    try :\n",
    "         # 기본 port는 부여하지 않아도 됨\n",
    "        conn = sqlite3.connect('sql_test.db')\n",
    "        cur = conn.cursor()\n",
    "        sql = \"insert into employee(empid, name, age,deptid, salary) values(?,?,?,?,?)\"\n",
    "        \n",
    "        data = [(16 ,\"폴3\", 32, 0,20000.0),(17,\"알렌2\",25,0, 15000.0)]\n",
    "        cur.executemany(sql,data)\n",
    "        conn.commit()\n",
    "        conn.close()\n",
    "        print(\"insert bulk sucess\")\n",
    "    except Exception as err :\n",
    "        print('error ', err)\n",
    "        \n",
    "bulk_insertTable()\n"
   ]
  },
  {
   "cell_type": "code",
   "execution_count": 111,
   "metadata": {
    "collapsed": false
   },
   "outputs": [
    {
     "name": "stdout",
     "output_type": "stream",
     "text": [
      "(1, '폴2', 32, 1, 20000)\n",
      "(2, '알렌2', 25, 2, 15000)\n",
      "(3, '폴2', 32, 7, 20000)\n",
      "(4, '알렌2', 25, 7, 15000)\n",
      "(5, '테디2', 35, 3, 20000)\n",
      "(6, '마크2', 25, 3, 65000)\n",
      "(7, '다윗2', 27, 5, 85000)\n",
      "(8, '김2', 22, 4, 45000)\n",
      "(9, '폴3', 32, 7, 20000)\n",
      "(10, '테디2', 35, 3, 20000)\n",
      "(11, '마크2', 25, 4, 65000)\n",
      "(12, '다윗2', 27, 1, 85000)\n",
      "(13, '김2', 22, 2, 45000)\n",
      "(14, ' 제임스2', 24, 4, 100000)\n",
      "(15, ' 제임스2', 24, 2, 100000)\n",
      "(16, '폴3', 32, 0, 20000)\n",
      "(17, '알렌2', 25, 0, 15000)\n",
      "select sucess\n"
     ]
    }
   ],
   "source": [
    "def employee_select_Table() :\n",
    "    try :\n",
    "         # 기본 port는 부여하지 않아도 됨\n",
    "        conn = sqlite3.connect('sql_test.db')\n",
    "        cur = conn.cursor()\n",
    "        sql = \"select * from employee;\"\n",
    "        \n",
    "        cur.execute(sql)\n",
    "        for i in cur :\n",
    "            print(i)\n",
    "        conn.close()\n",
    "        print(\"select sucess\")\n",
    "    except Exception as err :\n",
    "        print('error ', err)\n",
    "        \n",
    "employee_select_Table()"
   ]
  },
  {
   "cell_type": "code",
   "execution_count": 104,
   "metadata": {
    "collapsed": false
   },
   "outputs": [
    {
     "name": "stdout",
     "output_type": "stream",
     "text": [
      "('폴2', '기획')\n",
      "('알렌2', '재무')\n",
      "('폴2', '총무')\n",
      "('알렌2', '총무')\n",
      "('테디2', '경리')\n",
      "('마크2', '경리')\n",
      "('다윗2', '인사')\n",
      "('김2', '영업')\n",
      "('폴3', '총무')\n",
      "('테디2', '경리')\n",
      "('마크2', '영업')\n",
      "('다윗2', '기획')\n",
      "('김2', '재무')\n",
      "(' 제임스2', '영업')\n",
      "(' 제임스2', '재무')\n",
      "select sucess\n"
     ]
    }
   ],
   "source": [
    "def join_select_Table() :\n",
    "    try :\n",
    "         # 기본 port는 부여하지 않아도 됨\n",
    "        conn = sqlite3.connect('sql_test.db')\n",
    "        cur = conn.cursor()\n",
    "        sql = \"select em.name, dt.dept from department as dt , \\\n",
    "        employee as em where dt.id = em.deptid;\"\n",
    "        \n",
    "        cur.execute(sql)\n",
    "        for i in cur :\n",
    "            print(i)\n",
    "        conn.close()\n",
    "        print(\"select sucess\")\n",
    "    except Exception as err :\n",
    "        print('error ', err)\n",
    "        \n",
    "join_select_Table()"
   ]
  },
  {
   "cell_type": "code",
   "execution_count": 109,
   "metadata": {
    "collapsed": false
   },
   "outputs": [
    {
     "name": "stdout",
     "output_type": "stream",
     "text": [
      "('폴2', '기획')\n",
      "('알렌2', '재무')\n",
      "('폴2', '총무')\n",
      "('알렌2', '총무')\n",
      "('테디2', '경리')\n",
      "('마크2', '경리')\n",
      "('다윗2', '인사')\n",
      "('김2', '영업')\n",
      "('폴3', '총무')\n",
      "('테디2', '경리')\n",
      "('마크2', '영업')\n",
      "('다윗2', '기획')\n",
      "('김2', '재무')\n",
      "(' 제임스2', '영업')\n",
      "(' 제임스2', '재무')\n",
      "select sucess\n"
     ]
    }
   ],
   "source": [
    "def injoin_select_Table() :\n",
    "    try :\n",
    "         # 기본 port는 부여하지 않아도 됨\n",
    "        conn = sqlite3.connect('sql_test.db')\n",
    "        cur = conn.cursor()\n",
    "        sql = \"select em.name, dt.dept FROM department as dt INNER JOIN  \\\n",
    "        employee as em ON dt.id = em.deptid\"\n",
    "        \n",
    "        cur.execute(sql)\n",
    "        for i in cur :\n",
    "            print(i)\n",
    "        conn.close()\n",
    "        print(\"select sucess\")\n",
    "    except Exception as err :\n",
    "        print('error ', err)\n",
    "        \n",
    "injoin_select_Table()"
   ]
  },
  {
   "cell_type": "code",
   "execution_count": 116,
   "metadata": {
    "collapsed": false
   },
   "outputs": [
    {
     "name": "stdout",
     "output_type": "stream",
     "text": [
      "('폴2', '기획')\n",
      "('알렌2', '재무')\n",
      "('폴2', '총무')\n",
      "('알렌2', '총무')\n",
      "('테디2', '경리')\n",
      "('마크2', '경리')\n",
      "('다윗2', '인사')\n",
      "('김2', '영업')\n",
      "('폴3', '총무')\n",
      "('테디2', '경리')\n",
      "('마크2', '영업')\n",
      "('다윗2', '기획')\n",
      "('김2', '재무')\n",
      "(' 제임스2', '영업')\n",
      "(' 제임스2', '재무')\n",
      "('폴3', None)\n",
      "('알렌2', None)\n",
      "select sucess\n"
     ]
    }
   ],
   "source": [
    "def outjoin_select_Table() :\n",
    "    try :\n",
    "         # 기본 port는 부여하지 않아도 됨\n",
    "        conn = sqlite3.connect('sql_test.db')\n",
    "        cur = conn.cursor()\n",
    "        sql = \"select em.name, dt.dept FROM employee as em  LEFT OUTER JOIN  \\\n",
    "          department as dt ON dt.id = em.deptid\"\n",
    "        \n",
    "        cur.execute(sql)\n",
    "        for i in cur :\n",
    "            print(i)\n",
    "        conn.close()\n",
    "        print(\"select sucess\")\n",
    "    except Exception as err :\n",
    "        print('error ', err)\n",
    "        \n",
    "outjoin_select_Table()"
   ]
  },
  {
   "cell_type": "code",
   "execution_count": 126,
   "metadata": {
    "collapsed": false
   },
   "outputs": [
    {
     "name": "stdout",
     "output_type": "stream",
     "text": [
      "(1, '폴2', '기획')\n",
      "(1, '폴2', '재무')\n",
      "(1, '폴2', '경리')\n",
      "(1, '폴2', '영업')\n",
      "(1, '폴2', '인사')\n",
      "(1, '폴2', '회계')\n",
      "(1, '폴2', '총무')\n",
      "(2, '알렌2', '기획')\n",
      "(2, '알렌2', '재무')\n",
      "(2, '알렌2', '경리')\n",
      "(2, '알렌2', '영업')\n",
      "(2, '알렌2', '인사')\n",
      "(2, '알렌2', '회계')\n",
      "(2, '알렌2', '총무')\n",
      "(3, '폴2', '기획')\n",
      "(3, '폴2', '재무')\n",
      "(3, '폴2', '경리')\n",
      "(3, '폴2', '영업')\n",
      "(3, '폴2', '인사')\n",
      "(3, '폴2', '회계')\n",
      "(3, '폴2', '총무')\n",
      "(4, '알렌2', '기획')\n",
      "(4, '알렌2', '재무')\n",
      "(4, '알렌2', '경리')\n",
      "(4, '알렌2', '영업')\n",
      "(4, '알렌2', '인사')\n",
      "(4, '알렌2', '회계')\n",
      "(4, '알렌2', '총무')\n",
      "(5, '테디2', '기획')\n",
      "(5, '테디2', '재무')\n",
      "(5, '테디2', '경리')\n",
      "(5, '테디2', '영업')\n",
      "(5, '테디2', '인사')\n",
      "(5, '테디2', '회계')\n",
      "(5, '테디2', '총무')\n",
      "(6, '마크2', '기획')\n",
      "(6, '마크2', '재무')\n",
      "(6, '마크2', '경리')\n",
      "(6, '마크2', '영업')\n",
      "(6, '마크2', '인사')\n",
      "(6, '마크2', '회계')\n",
      "(6, '마크2', '총무')\n",
      "(7, '다윗2', '기획')\n",
      "(7, '다윗2', '재무')\n",
      "(7, '다윗2', '경리')\n",
      "(7, '다윗2', '영업')\n",
      "(7, '다윗2', '인사')\n",
      "(7, '다윗2', '회계')\n",
      "(7, '다윗2', '총무')\n",
      "(8, '김2', '기획')\n",
      "(8, '김2', '재무')\n",
      "(8, '김2', '경리')\n",
      "(8, '김2', '영업')\n",
      "(8, '김2', '인사')\n",
      "(8, '김2', '회계')\n",
      "(8, '김2', '총무')\n",
      "(9, '폴3', '기획')\n",
      "(9, '폴3', '재무')\n",
      "(9, '폴3', '경리')\n",
      "(9, '폴3', '영업')\n",
      "(9, '폴3', '인사')\n",
      "(9, '폴3', '회계')\n",
      "(9, '폴3', '총무')\n",
      "(10, '테디2', '기획')\n",
      "(10, '테디2', '재무')\n",
      "(10, '테디2', '경리')\n",
      "(10, '테디2', '영업')\n",
      "(10, '테디2', '인사')\n",
      "(10, '테디2', '회계')\n",
      "(10, '테디2', '총무')\n",
      "(11, '마크2', '기획')\n",
      "(11, '마크2', '재무')\n",
      "(11, '마크2', '경리')\n",
      "(11, '마크2', '영업')\n",
      "(11, '마크2', '인사')\n",
      "(11, '마크2', '회계')\n",
      "(11, '마크2', '총무')\n",
      "(12, '다윗2', '기획')\n",
      "(12, '다윗2', '재무')\n",
      "(12, '다윗2', '경리')\n",
      "(12, '다윗2', '영업')\n",
      "(12, '다윗2', '인사')\n",
      "(12, '다윗2', '회계')\n",
      "(12, '다윗2', '총무')\n",
      "(13, '김2', '기획')\n",
      "(13, '김2', '재무')\n",
      "(13, '김2', '경리')\n",
      "(13, '김2', '영업')\n",
      "(13, '김2', '인사')\n",
      "(13, '김2', '회계')\n",
      "(13, '김2', '총무')\n",
      "(14, ' 제임스2', '기획')\n",
      "(14, ' 제임스2', '재무')\n",
      "(14, ' 제임스2', '경리')\n",
      "(14, ' 제임스2', '영업')\n",
      "(14, ' 제임스2', '인사')\n",
      "(14, ' 제임스2', '회계')\n",
      "(14, ' 제임스2', '총무')\n",
      "(15, ' 제임스2', '기획')\n",
      "(15, ' 제임스2', '재무')\n",
      "(15, ' 제임스2', '경리')\n",
      "(15, ' 제임스2', '영업')\n",
      "(15, ' 제임스2', '인사')\n",
      "(15, ' 제임스2', '회계')\n",
      "(15, ' 제임스2', '총무')\n",
      "(16, '폴3', '기획')\n",
      "(16, '폴3', '재무')\n",
      "(16, '폴3', '경리')\n",
      "(16, '폴3', '영업')\n",
      "(16, '폴3', '인사')\n",
      "(16, '폴3', '회계')\n",
      "(16, '폴3', '총무')\n",
      "(17, '알렌2', '기획')\n",
      "(17, '알렌2', '재무')\n",
      "(17, '알렌2', '경리')\n",
      "(17, '알렌2', '영업')\n",
      "(17, '알렌2', '인사')\n",
      "(17, '알렌2', '회계')\n",
      "(17, '알렌2', '총무')\n",
      "select sucess\n"
     ]
    }
   ],
   "source": [
    "def natural_join_select_Table() :\n",
    "    try :\n",
    "         # 기본 port는 부여하지 않아도 됨\n",
    "        conn = sqlite3.connect('sql_test.db')\n",
    "        cur = conn.cursor()\n",
    "        sql = \"select em.empid, em.name, dt.dept FROM employee as em  Natural JOIN  \\\n",
    "          department as dt \"\n",
    "        \n",
    "        cur.execute(sql)\n",
    "        for i in cur :\n",
    "            print(i)\n",
    "        conn.close()\n",
    "        print(\"select sucess\")\n",
    "    except Exception as err :\n",
    "        print('error ', err)\n",
    "        \n",
    "natural_join_select_Table()"
   ]
  },
  {
   "cell_type": "code",
   "execution_count": 127,
   "metadata": {
    "collapsed": false
   },
   "outputs": [
    {
     "name": "stdout",
     "output_type": "stream",
     "text": [
      "error  RIGHT and FULL OUTER JOINs are not currently supported\n"
     ]
    }
   ],
   "source": [
    "def outjoin_select_Table() :\n",
    "    try :\n",
    "         # 기본 port는 부여하지 않아도 됨\n",
    "        conn = sqlite3.connect('sql_test.db')\n",
    "        cur = conn.cursor()\n",
    "        sql = \"select em.name, dt.dept FROM employee as em  RIGHT OUTER JOIN  \\\n",
    "          department as dt ON dt.id = em.deptid\"\n",
    "        \n",
    "        cur.execute(sql)\n",
    "        for i in cur :\n",
    "            print(i)\n",
    "        conn.close()\n",
    "        print(\"select sucess\")\n",
    "    except Exception as err :\n",
    "        print('error ', err)\n",
    "        \n",
    "outjoin_select_Table()"
   ]
  },
  {
   "cell_type": "code",
   "execution_count": 133,
   "metadata": {
    "collapsed": false
   },
   "outputs": [
    {
     "name": "stdout",
     "output_type": "stream",
     "text": [
      "(1, '폴2', 32, 1, 20000)\n",
      "(2, '알렌2', 25, 2, 15000)\n",
      "(3, '폴2', 32, 7, 20000)\n",
      "(4, '알렌2', 25, 7, 15000)\n",
      "(5, '테디2', 35, 3, 20000)\n",
      "(6, '마크2', 25, 3, 65000)\n",
      "(7, '다윗2', 27, 5, 85000)\n",
      "(8, '김2', 22, 4, 45000)\n",
      "(9, '폴3', 32, 7, 20000)\n",
      "(10, '테디2', 35, 3, 20000)\n",
      "(11, '마크2', 25, 4, 65000)\n",
      "(12, '다윗2', 27, 1, 85000)\n",
      "(13, '김2', 22, 2, 45000)\n",
      "(14, ' 제임스2', 24, 4, 100000)\n",
      "(15, ' 제임스2', 24, 2, 100000)\n",
      "(16, '폴3', 32, 0, 20000)\n",
      "(17, '알렌2', 25, 0, 15000)\n",
      "select sucess\n"
     ]
    }
   ],
   "source": [
    "def union_select_Table() :\n",
    "    try :\n",
    "         # 기본 port는 부여하지 않아도 됨\n",
    "        conn = sqlite3.connect('sql_test.db')\n",
    "        cur = conn.cursor()\n",
    "        sql = \"select * FROM employee  union  \\\n",
    "          select * FROM  employee  \"\n",
    "        \n",
    "        cur.execute(sql)\n",
    "        for i in cur :\n",
    "            print(i)\n",
    "        conn.close()\n",
    "        print(\"select sucess\")\n",
    "    except Exception as err :\n",
    "        print('error ', err)\n",
    "        \n",
    "union_select_Table()"
   ]
  },
  {
   "cell_type": "code",
   "execution_count": 138,
   "metadata": {
    "collapsed": false
   },
   "outputs": [
    {
     "name": "stdout",
     "output_type": "stream",
     "text": [
      "(1, '폴2', 32, 1, 20000)\n",
      "(3, '폴2', 32, 7, 20000)\n",
      "(5, '테디2', 35, 3, 20000)\n",
      "(9, '폴3', 32, 7, 20000)\n",
      "(10, '테디2', 35, 3, 20000)\n",
      "(16, '폴3', 32, 0, 20000)\n",
      "select sucess\n"
     ]
    }
   ],
   "source": [
    "import sqlite3\n",
    "def glob_select_Table() :\n",
    "    try :\n",
    "         # 기본 port는 부여하지 않아도 됨\n",
    "        conn = sqlite3.connect('sql_test.db')\n",
    "        cur = conn.cursor()\n",
    "        sql = \"select * FROM employee  where age glob '3?';\"\n",
    "        \n",
    "        cur.execute(sql)\n",
    "        for i in cur :\n",
    "            print(i)\n",
    "        conn.close()\n",
    "        print(\"select sucess\")\n",
    "    except Exception as err :\n",
    "        print('error ', err)\n",
    "        \n",
    "glob_select_Table()"
   ]
  },
  {
   "cell_type": "code",
   "execution_count": 143,
   "metadata": {
    "collapsed": false
   },
   "outputs": [
    {
     "name": "stdout",
     "output_type": "stream",
     "text": [
      "('2017-02-21',)\n",
      "('2017-03-01',)\n",
      "('2017-02-28',)\n",
      "date select sucess\n"
     ]
    }
   ],
   "source": [
    "\n",
    "import sqlite3\n",
    "def date_select_Table() :\n",
    "    try :\n",
    "         # 기본 port는 부여하지 않아도 됨\n",
    "        conn = sqlite3.connect('sql_test.db')\n",
    "        cur = conn.cursor()\n",
    "        sql = \"select date('now');\"\n",
    "        \n",
    "        cur.execute(sql)\n",
    "        print(cur.fetchone())\n",
    "        sql = \"SELECT date('now','start of month','+1 month');\"\n",
    "        cur.execute(sql)\n",
    "        print(cur.fetchone())\n",
    "        sql = \"SELECT date('now','start of month','+1 month','-1 day');\"\n",
    "        cur.execute(sql)\n",
    "        print(cur.fetchone())\n",
    "        conn.close()\n",
    "        print(\"date select sucess\")\n",
    "    except Exception as err :\n",
    "        print('error ', err)\n",
    "        \n",
    "date_select_Table()"
   ]
  },
  {
   "cell_type": "code",
   "execution_count": 146,
   "metadata": {
    "collapsed": false
   },
   "outputs": [
    {
     "name": "stdout",
     "output_type": "stream",
     "text": [
      "('2004-08-19 18:51:06',)\n",
      "('2004-08-20 03:51:06',)\n",
      "date select sucess\n"
     ]
    }
   ],
   "source": [
    "import sqlite3\n",
    "def dateepoch_select_Table() :\n",
    "    try :\n",
    "         # 기본 port는 부여하지 않아도 됨\n",
    "        conn = sqlite3.connect('sql_test.db')\n",
    "        cur = conn.cursor()\n",
    "        sql = \"select datetime(1092941466, 'unixepoch');\"\n",
    "        \n",
    "        cur.execute(sql)\n",
    "        print(cur.fetchone())\n",
    "        \n",
    "        sql = \"select datetime(1092941466, 'unixepoch','localtime');\"\n",
    "        \n",
    "        cur.execute(sql)\n",
    "        print(cur.fetchone())\n",
    "        conn.close()\n",
    "        print(\"date select sucess\")\n",
    "    except Exception as err :\n",
    "        print('error ', err)\n",
    "        \n",
    "dateepoch_select_Table()"
   ]
  },
  {
   "cell_type": "code",
   "execution_count": 149,
   "metadata": {
    "collapsed": false
   },
   "outputs": [
    {
     "name": "stdout",
     "output_type": "stream",
     "text": [
      "('1487645606',)\n",
      "date select sucess\n"
     ]
    }
   ],
   "source": [
    "import sqlite3\n",
    "def strftime_select_Table() :\n",
    "    try :\n",
    "         # 기본 port는 부여하지 않아도 됨\n",
    "        conn = sqlite3.connect('sql_test.db')\n",
    "        cur = conn.cursor()\n",
    "        sql = \"select strftime('%s','now');\"\n",
    "        \n",
    "        cur.execute(sql)\n",
    "        print(cur.fetchone())\n",
    "        \n",
    "        conn.close()\n",
    "        print(\"date select sucess\")\n",
    "    except Exception as err :\n",
    "        print('error ', err)\n",
    "        \n",
    "strftime_select_Table()"
   ]
  },
  {
   "cell_type": "code",
   "execution_count": 1,
   "metadata": {
    "collapsed": false
   },
   "outputs": [
    {
     "name": "stdout",
     "output_type": "stream",
     "text": [
      "('3.8.11',)\n",
      "sqlite_version sucess\n"
     ]
    }
   ],
   "source": [
    "import sqlite3\n",
    "def sqlite_version() :\n",
    "    try :\n",
    "         # 기본 port는 부여하지 않아도 됨\n",
    "        conn = sqlite3.connect('sql_test.db')\n",
    "        cur = conn.cursor()\n",
    "        sql = \"select sqlite_version() AS 'SQLite Version';\"\n",
    "        \n",
    "        cur.execute(sql)\n",
    "        print(cur.fetchone())\n",
    "        \n",
    "        conn.close()\n",
    "        print(\"sqlite_version sucess\")\n",
    "    except Exception as err :\n",
    "        print('error ', err)\n",
    "        \n",
    "sqlite_version()"
   ]
  },
  {
   "cell_type": "code",
   "execution_count": 5,
   "metadata": {
    "collapsed": false
   },
   "outputs": [
    {
     "name": "stdout",
     "output_type": "stream",
     "text": [
      "('폴2', 2)\n",
      "('알렌2', 3)\n",
      "('폴2', 2)\n",
      "('알렌2', 3)\n",
      "('테디2', 3)\n",
      "('마크2', 3)\n",
      "('다윗2', 3)\n",
      "('김2', 2)\n",
      "('폴3', 2)\n",
      "('테디2', 3)\n",
      "('마크2', 3)\n",
      "('다윗2', 3)\n",
      "('김2', 2)\n",
      "(' 제임스2', 5)\n",
      "(' 제임스2', 5)\n",
      "('폴3', 2)\n",
      "('알렌2', 3)\n",
      " length sucess\n"
     ]
    }
   ],
   "source": [
    "import sqlite3\n",
    "def length_version() :\n",
    "    try :\n",
    "         # 기본 port는 부여하지 않아도 됨\n",
    "        conn = sqlite3.connect('sql_test.db')\n",
    "        cur = conn.cursor()\n",
    "        sql = \"select name, length(name) FROM employee;\"\n",
    "        \n",
    "        cur.execute(sql)\n",
    "        for i in cur :\n",
    "            print(i)\n",
    "        \n",
    "        conn.close()\n",
    "        print(\" length sucess\")\n",
    "    except Exception as err :\n",
    "        print('error ', err)\n",
    "        \n",
    "length_version()"
   ]
  },
  {
   "cell_type": "code",
   "execution_count": 153,
   "metadata": {
    "collapsed": false,
    "scrolled": true
   },
   "outputs": [
    {
     "name": "stdout",
     "output_type": "stream",
     "text": [
      "Writing flaskr/templates/result.html\n"
     ]
    }
   ],
   "source": [
    "%%writefile flaskr/templates/result.html\n",
    "\n",
    "<!doctype html>\n",
    "<html>\n",
    "   <body>\n",
    "   \n",
    "      <table border = 1>\n",
    "         {% for key, value in result.iteritems() %}\n",
    "         \n",
    "            <tr>\n",
    "               <th> {{ key }} </th>\n",
    "               <td> {{ value }} </td>\n",
    "            </tr>\n",
    "            \n",
    "         {% endfor %}\n",
    "      </table>\n",
    "      \n",
    "   </body>\n",
    "</html>"
   ]
  },
  {
   "cell_type": "code",
   "execution_count": 156,
   "metadata": {
    "collapsed": false
   },
   "outputs": [
    {
     "name": "stdout",
     "output_type": "stream",
     "text": [
      "Overwriting flaskr/result.py\n"
     ]
    }
   ],
   "source": [
    "%%writefile flaskr/result.py\n",
    "from flask import Flask, render_template\n",
    "app = Flask(__name__)\n",
    "\n",
    "@app.route('/')\n",
    "@app.route('/result')\n",
    "def result():\n",
    "    \n",
    "    dict = {'phy':50,'che':60,'maths':70}\n",
    "    return render_template('result.html', result = dict)\n",
    "\n",
    "if __name__ == '__main__':\n",
    "    app.run(debug = True)"
   ]
  },
  {
   "cell_type": "code",
   "execution_count": null,
   "metadata": {
    "collapsed": true
   },
   "outputs": [],
   "source": []
  }
 ],
 "metadata": {
  "anaconda-cloud": {},
  "kernelspec": {
   "display_name": "Python [conda root]",
   "language": "python",
   "name": "conda-root-py"
  },
  "language_info": {
   "codemirror_mode": {
    "name": "ipython",
    "version": 3
   },
   "file_extension": ".py",
   "mimetype": "text/x-python",
   "name": "python",
   "nbconvert_exporter": "python",
   "pygments_lexer": "ipython3",
   "version": "3.5.2"
  }
 },
 "nbformat": 4,
 "nbformat_minor": 1
}
